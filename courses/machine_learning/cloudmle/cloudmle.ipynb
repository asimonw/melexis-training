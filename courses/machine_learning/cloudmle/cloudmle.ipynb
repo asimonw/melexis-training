{
 "cells": [
  {
   "cell_type": "markdown",
   "metadata": {},
   "source": [
    "<h1> Scaling up ML using Cloud ML Engine </h1>\n",
    "\n",
    "In this notebook, we take a previously developed TensorFlow model to predict taxifare rides and package it up so that it can be run in Cloud MLE. For now, we'll run this on a small dataset. The model that was developed is rather simplistic, and therefore, the accuracy of the model is not great either.  However, this notebook illustrates *how* to package up a TensorFlow model to run it within Cloud ML. \n",
    "\n",
    "Later in the course, we will look at ways to make a more effective machine learning model."
   ]
  },
  {
   "cell_type": "markdown",
   "metadata": {},
   "source": [
    "<h2> Environment variables for project and bucket </h2>\n",
    "\n",
    "Note that:\n",
    "<ol>\n",
    "<li> Your project id is the *unique* string that identifies your project (not the project name). You can find this from the GCP Console dashboard's Home page.  My dashboard reads:  <b>Project ID:</b> cloud-training-demos </li>\n",
    "<li> Cloud training often involves saving and restoring model files. If you don't have a bucket already, I suggest that you create one from the GCP console (because it will dynamically check whether the bucket name you want is available). A common pattern is to prefix the bucket name by the project id, so that it is unique. Also, for cost reasons, you might want to use a single region bucket. </li>\n",
    "</ol>\n",
    "<b>Change the cell below</b> to reflect your Project ID and bucket name.\n"
   ]
  },
  {
   "cell_type": "code",
   "execution_count": 20,
   "metadata": {},
   "outputs": [],
   "source": [
    "import os\n",
    "PROJECT = 'cloud-training-demos' # REPLACE WITH YOUR PROJECT ID\n",
    "REGION = 'us-central1' # Choose an available region for Cloud MLE from https://cloud.google.com/ml-engine/docs/regions.\n",
    "BUCKET = 'cloud-training-demos-ml' # REPLACE WITH YOUR BUCKET NAME. Use a regional bucket in the region you selected."
   ]
  },
  {
   "cell_type": "code",
   "execution_count": 10,
   "metadata": {},
   "outputs": [],
   "source": [
    "# for bash\n",
    "os.environ['PROJECT'] = PROJECT\n",
    "os.environ['BUCKET'] = BUCKET\n",
    "os.environ['REGION'] = REGION\n",
    "os.environ['TFVERSION'] = '1.13'  # Tensorflow version"
   ]
  },
  {
   "cell_type": "code",
   "execution_count": 11,
   "metadata": {},
   "outputs": [
    {
     "name": "stderr",
     "output_type": "stream",
     "text": [
      "Updated property [core/project].\n",
      "Updated property [compute/region].\n"
     ]
    }
   ],
   "source": [
    "%%bash\n",
    "gcloud config set project $PROJECT\n",
    "gcloud config set compute/region $REGION"
   ]
  },
  {
   "cell_type": "markdown",
   "metadata": {},
   "source": [
    "Allow the Cloud ML Engine service account to read/write to the bucket containing training data."
   ]
  },
  {
   "cell_type": "code",
   "execution_count": 12,
   "metadata": {},
   "outputs": [
    {
     "name": "stdout",
     "output_type": "stream",
     "text": [
      "Authorizing the Cloud ML Service account service-316488749670@cloud-ml.google.com.iam.gserviceaccount.com to access files in drfib-ml\n"
     ]
    },
    {
     "name": "stderr",
     "output_type": "stream",
     "text": [
      "  % Total    % Received % Xferd  Average Speed   Time    Time     Time  Current\n",
      "                                 Dload  Upload   Total   Spent    Left  Speed\n",
      "100   235    0   235    0     0    617      0 --:--:-- --:--:-- --:--:--   616\n",
      "No changes to gs://drfib-ml/\n",
      "No changes to gs://drfib-ml/lab3a_190515_175352/b8578c13e696d20125ae16ebd74110c5d4c29a4537453aca3f18f6872729a09e/taxifare-0.1.tar.gz\n",
      "No changes to gs://drfib-ml/lab4a_190515_201621/7758eb681d212d6e7b65dc7a2d90582c648f781d316d11f29347e5c37fe9e401/trainer-0.0.0.tar.gz\n",
      "Updated ACL on gs://drfib-ml/taxifare/\n",
      "Updated ACL on gs://drfib-ml/taxifare/ch3/taxi_trained/\n",
      "Updated ACL on gs://drfib-ml/taxifare/ch3/taxi_trained/eval/events.out.tfevents.1557943575.cmle-training-master-9bcc4aa73a-0-s47k7\n",
      "Updated ACL on gs://drfib-ml/taxifare/ch3/\n",
      "Updated ACL on gs://drfib-ml/taxifare/ch3/taxi_trained/events.out.tfevents.1557943085.cmle-training-worker-9bcc4aa73a-0-h2bwc\n",
      "Updated ACL on gs://drfib-ml/taxifare/ch3/taxi_trained/events.out.tfevents.1557943083.cmle-training-master-9bcc4aa73a-0-s47k7\n",
      "Updated ACL on gs://drfib-ml/taxifare/ch3/taxi_trained/checkpoint\n",
      "Updated ACL on gs://drfib-ml/taxifare/ch3/taxi_trained/export/exporter/1557943576/saved_model.pb\n",
      "Updated ACL on gs://drfib-ml/taxifare/ch3/taxi_trained/graph.pbtxt\n",
      "Updated ACL on gs://drfib-ml/taxifare/ch3/taxi_trained/model.ckpt-0.data-00002-of-00009\n",
      "Updated ACL on gs://drfib-ml/taxifare/ch3/taxi_trained/model.ckpt-0.data-00003-of-00009\n",
      "Updated ACL on gs://drfib-ml/taxifare/ch3/taxi_trained/export/exporter/1557943576/\n",
      "Updated ACL on gs://drfib-ml/taxifare/ch3/taxi_trained/eval/\n",
      "Updated ACL on gs://drfib-ml/taxifare/ch3/taxi_trained/model.ckpt-0.data-00004-of-00009\n",
      "Updated ACL on gs://drfib-ml/taxifare/ch3/taxi_trained/model.ckpt-0.data-00005-of-00009\n",
      "Updated ACL on gs://drfib-ml/taxifare/ch3/taxi_trained/export/\n",
      "Updated ACL on gs://drfib-ml/taxifare/ch3/taxi_trained/model.ckpt-0.data-00006-of-00009\n",
      "Updated ACL on gs://drfib-ml/taxifare/ch3/taxi_trained/model.ckpt-0.data-00007-of-00009\n",
      "Updated ACL on gs://drfib-ml/taxifare/ch3/taxi_trained/model.ckpt-0.data-00001-of-00009\n",
      "Updated ACL on gs://drfib-ml/taxifare/ch3/taxi_trained/model.ckpt-0.index\n",
      "Updated ACL on gs://drfib-ml/taxifare/ch3/taxi_trained/model.ckpt-0.data-00000-of-00009\n",
      "Updated ACL on gs://drfib-ml/taxifare/ch3/taxi_trained/model.ckpt-0.meta\n",
      "Updated ACL on gs://drfib-ml/taxifare/ch3/taxi_trained/model.ckpt-100024.data-00001-of-00009\n",
      "Updated ACL on gs://drfib-ml/taxifare/ch3/taxi_trained/export/exporter/1557943576/variables/\n",
      "Updated ACL on gs://drfib-ml/taxifare/ch3/taxi_trained/model.ckpt-100024.data-00003-of-00009\n",
      "Updated ACL on gs://drfib-ml/taxifare/ch3/taxi_trained/model.ckpt-100024.data-00006-of-00009\n",
      "Updated ACL on gs://drfib-ml/taxifare/ch3/taxi_trained/model.ckpt-0.data-00008-of-00009\n",
      "Updated ACL on gs://drfib-ml/taxifare/ch3/taxi_trained/model.ckpt-100024.data-00000-of-00009\n",
      "Updated ACL on gs://drfib-ml/taxifare/ch3/taxi_trained/model.ckpt-100024.data-00004-of-00009\n",
      "Updated ACL on gs://drfib-ml/taxifare/ch3/taxi_trained/export/exporter/1557943576/variables/variables.data-00000-of-00002\n",
      "Updated ACL on gs://drfib-ml/taxifare/ch3/taxi_trained/model.ckpt-100024.data-00008-of-00009\n",
      "Updated ACL on gs://drfib-ml/taxifare/ch3/taxi_trained/model.ckpt-100024.data-00007-of-00009\n",
      "Updated ACL on gs://drfib-ml/taxifare/ch3/taxi_trained/export/exporter/1557943576/variables/variables.index\n",
      "Updated ACL on gs://drfib-ml/taxifare/ch3/taxi_trained/model.ckpt-100024.data-00002-of-00009\n",
      "Updated ACL on gs://drfib-ml/taxifare/ch3/taxi_trained/model.ckpt-100024.meta\n",
      "Updated ACL on gs://drfib-ml/taxifare/ch4/\n",
      "Updated ACL on gs://drfib-ml/taxifare/ch3/taxi_trained/model.ckpt-100024.index\n",
      "Updated ACL on gs://drfib-ml/taxifare/ch3/taxi_trained/export/exporter/\n",
      "Updated ACL on gs://drfib-ml/taxifare/ch3/taxi_trained/export/exporter/1557943576/variables/variables.data-00001-of-00002\n",
      "Updated ACL on gs://drfib-ml/taxifare/ch4/taxi20k/\n",
      "Updated ACL on gs://drfib-ml/taxifare/ch4/taxi20k/checkpoint\n",
      "Updated ACL on gs://drfib-ml/taxifare/ch3/taxi_trained/model.ckpt-100024.data-00005-of-00009\n",
      "Updated ACL on gs://drfib-ml/taxifare/ch4/taxi20k/eval/\n",
      "Updated ACL on gs://drfib-ml/taxifare/ch4/taxi20k/events.out.tfevents.1557951642.cmle-training-worker-027d3d569f-0-pg58r\n",
      "Updated ACL on gs://drfib-ml/taxifare/ch4/taxi20k/export/exporter/1557951693/\n",
      "Updated ACL on gs://drfib-ml/taxifare/ch4/taxi20k/eval/events.out.tfevents.1557951692.cmle-training-master-027d3d569f-0-tt8lt\n",
      "Updated ACL on gs://drfib-ml/taxifare/ch4/taxi20k/export/exporter/\n",
      "Updated ACL on gs://drfib-ml/taxifare/ch4/taxi20k/export/exporter/1557951693/variables/\n",
      "Updated ACL on gs://drfib-ml/taxifare/ch4/taxi20k/export/exporter/1557951693/saved_model.pb\n",
      "Updated ACL on gs://drfib-ml/taxifare/ch4/taxi20k/export/exporter/1557951693/variables/variables.data-00000-of-00002\n",
      "Updated ACL on gs://drfib-ml/taxifare/ch4/taxi20k/export/\n",
      "Updated ACL on gs://drfib-ml/taxifare/ch4/taxi20k/export/exporter/1557951693/variables/variables.index\n",
      "Updated ACL on gs://drfib-ml/taxifare/ch4/taxi20k/events.out.tfevents.1557951636.cmle-training-master-027d3d569f-0-tt8lt\n",
      "Updated ACL on gs://drfib-ml/taxifare/ch4/taxi20k/export/exporter/1557951693/variables/variables.data-00001-of-00002\n",
      "Updated ACL on gs://drfib-ml/taxifare/ch4/taxi20k/graph.pbtxt\n",
      "Updated ACL on gs://drfib-ml/taxifare/ch4/taxi20k/model.ckpt-0.data-00000-of-00014\n",
      "Updated ACL on gs://drfib-ml/taxifare/ch4/taxi20k/model.ckpt-0.data-00001-of-00014\n",
      "Updated ACL on gs://drfib-ml/taxifare/ch4/taxi20k/model.ckpt-0.data-00002-of-00014\n",
      "Updated ACL on gs://drfib-ml/taxifare/ch4/taxi20k/model.ckpt-0.data-00003-of-00014\n",
      "Updated ACL on gs://drfib-ml/taxifare/ch4/taxi20k/model.ckpt-0.data-00004-of-00014\n",
      "Updated ACL on gs://drfib-ml/taxifare/ch4/taxi20k/model.ckpt-0.data-00005-of-00014\n",
      "Updated ACL on gs://drfib-ml/taxifare/ch4/taxi20k/model.ckpt-0.data-00006-of-00014\n",
      "Updated ACL on gs://drfib-ml/taxifare/ch4/taxi20k/model.ckpt-0.data-00010-of-00014\n",
      "Updated ACL on gs://drfib-ml/taxifare/ch4/taxi20k/model.ckpt-0.data-00009-of-00014\n",
      "Updated ACL on gs://drfib-ml/taxifare/ch4/taxi20k/model.ckpt-0.data-00011-of-00014\n",
      "Updated ACL on gs://drfib-ml/taxifare/ch4/taxi20k/model.ckpt-0.data-00007-of-00014\n",
      "Updated ACL on gs://drfib-ml/taxifare/ch4/taxi20k/model.ckpt-0.data-00008-of-00014\n",
      "Updated ACL on gs://drfib-ml/taxifare/ch4/taxi20k/model.ckpt-0.data-00012-of-00014\n",
      "Updated ACL on gs://drfib-ml/taxifare/ch4/taxi20k/model.ckpt-0.data-00013-of-00014\n",
      "Updated ACL on gs://drfib-ml/taxifare/ch4/taxi20k/model.ckpt-0.index\n",
      "Updated ACL on gs://drfib-ml/taxifare/ch4/taxi20k/model.ckpt-0.meta\n",
      "No changes to gs://drfib-ml/\n"
     ]
    }
   ],
   "source": [
    "%%bash\n",
    "PROJECT_ID=$PROJECT\n",
    "AUTH_TOKEN=$(gcloud auth print-access-token)\n",
    "SVC_ACCOUNT=$(curl -X GET -H \"Content-Type: application/json\" \\\n",
    "    -H \"Authorization: Bearer $AUTH_TOKEN\" \\\n",
    "    https://ml.googleapis.com/v1/projects/${PROJECT_ID}:getConfig \\\n",
    "    | python -c \"import json; import sys; response = json.load(sys.stdin); \\\n",
    "    print(response['serviceAccount'])\")\n",
    "\n",
    "echo \"Authorizing the Cloud ML Service account $SVC_ACCOUNT to access files in $BUCKET\"\n",
    "gsutil -m defacl ch -u $SVC_ACCOUNT:R gs://$BUCKET\n",
    "gsutil -m acl ch -u $SVC_ACCOUNT:R -r gs://$BUCKET  # error message (if bucket is empty) can be ignored\n",
    "gsutil -m acl ch -u $SVC_ACCOUNT:W gs://$BUCKET"
   ]
  },
  {
   "cell_type": "markdown",
   "metadata": {},
   "source": [
    "<h2> Packaging up the code </h2>\n",
    "\n",
    "Take your code and put into a standard Python package structure. Review <a href=\"taxifare/trainer/model.py\">model.py</a> and <a href=\"taxifare/trainer/task.py\">task.py</a>, which contain the Tensorflow code from earlier. Use the file browser in the left nav bar to refer to these files at any time."
   ]
  },
  {
   "cell_type": "code",
   "execution_count": 13,
   "metadata": {},
   "outputs": [
    {
     "name": "stdout",
     "output_type": "stream",
     "text": [
      "taxifare\n",
      "taxifare/PKG-INFO\n",
      "taxifare/setup.py\n",
      "taxifare/setup.cfg\n",
      "taxifare/trainer\n",
      "taxifare/trainer/__init__.pyc\n",
      "taxifare/trainer/.ipynb_checkpoints\n",
      "taxifare/trainer/.ipynb_checkpoints/task-checkpoint.py\n",
      "taxifare/trainer/.ipynb_checkpoints/__init__-checkpoint.py\n",
      "taxifare/trainer/.ipynb_checkpoints/model-checkpoint.py\n",
      "taxifare/trainer/model.pyc\n",
      "taxifare/trainer/__init__.py\n",
      "taxifare/trainer/task.py\n",
      "taxifare/trainer/model.py\n"
     ]
    }
   ],
   "source": [
    "!find taxifare"
   ]
  },
  {
   "cell_type": "markdown",
   "metadata": {},
   "source": [
    "<h2> Find absolute paths to your data </h2>"
   ]
  },
  {
   "cell_type": "markdown",
   "metadata": {},
   "source": [
    "Note the absolute paths below. /content is mapped in Datalab to where the home icon takes you"
   ]
  },
  {
   "cell_type": "code",
   "execution_count": 15,
   "metadata": {},
   "outputs": [
    {
     "name": "stdout",
     "output_type": "stream",
     "text": [
      "/home/jupyter/training-data-analyst/courses/machine_learning/cloudmle\n",
      "7.3,-74.004431,40.742524,-73.990181,40.7575,1,0\n",
      "10.1,-73.955082,40.764962,-73.968036,40.758725,1,0\n"
     ]
    }
   ],
   "source": [
    "%%bash\n",
    "echo $PWD\n",
    "rm -rf $PWD/taxi_trained\n",
    "cp $PWD/../tensorflow/taxi-train.csv .\n",
    "cp $PWD/../tensorflow/taxi-valid.csv .\n",
    "head -1 $PWD/taxi-train.csv\n",
    "head -1 $PWD/taxi-valid.csv"
   ]
  },
  {
   "cell_type": "markdown",
   "metadata": {},
   "source": [
    "<h2> Running the Python module from the command-line </h2>"
   ]
  },
  {
   "cell_type": "code",
   "execution_count": 16,
   "metadata": {},
   "outputs": [
    {
     "name": "stderr",
     "output_type": "stream",
     "text": [
      "INFO:tensorflow:Using default config.\n",
      "INFO:tensorflow:Using config: {'_save_checkpoints_secs': 600, '_num_ps_replicas': 0, '_keep_checkpoint_max': 5, '_task_type': 'worker', '_global_id_in_cluster': 0, '_is_chief': True, '_cluster_spec': <tensorflow.python.training.server_lib.ClusterSpec object at 0x7f3d44cbd3d0>, '_model_dir': '/home/jupyter/training-data-analyst/courses/machine_learning/cloudmle/taxi_trained', '_protocol': None, '_save_checkpoints_steps': None, '_keep_checkpoint_every_n_hours': 10000, '_service': None, '_session_config': allow_soft_placement: true\n",
      "graph_options {\n",
      "  rewrite_options {\n",
      "    meta_optimizer_iterations: ONE\n",
      "  }\n",
      "}\n",
      ", '_tf_random_seed': None, '_save_summary_steps': 100, '_device_fn': None, '_experimental_distribute': None, '_num_worker_replicas': 1, '_task_id': 0, '_log_step_count_steps': 100, '_evaluation_master': '', '_eval_distribute': None, '_train_distribute': None, '_master': ''}\n",
      "INFO:tensorflow:Not using Distribute Coordinator.\n",
      "INFO:tensorflow:Running training and evaluation locally (non-distributed).\n",
      "INFO:tensorflow:Start train and evaluate loop. The evaluate will happen after every checkpoint. Checkpoint frequency is determined based on RunConfig arguments: save_checkpoints_steps None or save_checkpoints_secs 600.\n",
      "WARNING:tensorflow:From /usr/local/lib/python2.7/dist-packages/tensorflow/python/framework/op_def_library.py:263: colocate_with (from tensorflow.python.framework.ops) is deprecated and will be removed in a future version.\n",
      "Instructions for updating:\n",
      "Colocations handled automatically by placer.\n",
      "INFO:tensorflow:Calling model_fn.\n",
      "WARNING:tensorflow:From /usr/local/lib/python2.7/dist-packages/tensorflow/python/feature_column/feature_column_v2.py:2703: to_float (from tensorflow.python.ops.math_ops) is deprecated and will be removed in a future version.\n",
      "Instructions for updating:\n",
      "Use tf.cast instead.\n",
      "INFO:tensorflow:Done calling model_fn.\n",
      "INFO:tensorflow:Create CheckpointSaverHook.\n",
      "INFO:tensorflow:Graph was finalized.\n",
      "2019-06-12 19:35:33.192365: I tensorflow/core/platform/cpu_feature_guard.cc:141] Your CPU supports instructions that this TensorFlow binary was not compiled to use: AVX2 FMA\n",
      "2019-06-12 19:35:33.452205: I tensorflow/core/platform/profile_utils/cpu_utils.cc:94] CPU Frequency: 2200000000 Hz\n",
      "2019-06-12 19:35:33.467300: I tensorflow/compiler/xla/service/service.cc:150] XLA service 0x56195bd6e680 executing computations on platform Host. Devices:\n",
      "2019-06-12 19:35:33.467380: I tensorflow/compiler/xla/service/service.cc:158]   StreamExecutor device (0): <undefined>, <undefined>\n",
      "2019-06-12 19:35:33.468189: I tensorflow/core/common_runtime/process_util.cc:71] Creating new thread pool with default inter op setting: 2. Tune using inter_op_parallelism_threads for best performance.\n",
      "INFO:tensorflow:Running local_init_op.\n",
      "INFO:tensorflow:Done running local_init_op.\n",
      "INFO:tensorflow:Saving checkpoints for 0 into /home/jupyter/training-data-analyst/courses/machine_learning/cloudmle/taxi_trained/model.ckpt.\n",
      "INFO:tensorflow:loss = 116491.66, step = 1\n",
      "INFO:tensorflow:global_step/sec: 25.0868\n",
      "INFO:tensorflow:loss = 38383.996, step = 101 (3.986 sec)\n",
      "INFO:tensorflow:global_step/sec: 27.9673\n",
      "INFO:tensorflow:loss = 44666.188, step = 201 (3.576 sec)\n",
      "INFO:tensorflow:global_step/sec: 27.839\n",
      "INFO:tensorflow:loss = 67385.37, step = 301 (3.592 sec)\n",
      "INFO:tensorflow:global_step/sec: 26.5024\n",
      "INFO:tensorflow:loss = 45597.266, step = 401 (3.773 sec)\n",
      "INFO:tensorflow:global_step/sec: 27.1155\n",
      "INFO:tensorflow:loss = 61863.11, step = 501 (3.688 sec)\n",
      "INFO:tensorflow:global_step/sec: 25.235\n",
      "INFO:tensorflow:loss = 51067.76, step = 601 (3.963 sec)\n",
      "INFO:tensorflow:global_step/sec: 25.9412\n",
      "INFO:tensorflow:loss = 65508.637, step = 701 (3.855 sec)\n",
      "INFO:tensorflow:global_step/sec: 27.4943\n",
      "INFO:tensorflow:loss = 65730.945, step = 801 (3.637 sec)\n",
      "INFO:tensorflow:global_step/sec: 26.5879\n",
      "INFO:tensorflow:loss = 61673.86, step = 901 (3.761 sec)\n",
      "INFO:tensorflow:Saving checkpoints for 1000 into /home/jupyter/training-data-analyst/courses/machine_learning/cloudmle/taxi_trained/model.ckpt.\n",
      "INFO:tensorflow:Calling model_fn.\n",
      "INFO:tensorflow:Done calling model_fn.\n",
      "INFO:tensorflow:Starting evaluation at 2019-06-12T19:36:14Z\n",
      "INFO:tensorflow:Graph was finalized.\n",
      "WARNING:tensorflow:From /usr/local/lib/python2.7/dist-packages/tensorflow/python/training/saver.py:1266: checkpoint_exists (from tensorflow.python.training.checkpoint_management) is deprecated and will be removed in a future version.\n",
      "Instructions for updating:\n",
      "Use standard file APIs to check for files with this prefix.\n",
      "INFO:tensorflow:Restoring parameters from /home/jupyter/training-data-analyst/courses/machine_learning/cloudmle/taxi_trained/model.ckpt-1000\n",
      "INFO:tensorflow:Running local_init_op.\n",
      "INFO:tensorflow:Done running local_init_op.\n",
      "INFO:tensorflow:Finished evaluation at 2019-06-12-19:36:15\n",
      "INFO:tensorflow:Saving dict for global step 1000: average_loss = 100.162186, global_step = 1000, label/mean = 11.372184, loss = 157354.8, prediction/mean = 11.368638\n",
      "INFO:tensorflow:Saving 'checkpoint_path' summary for global step 1000: /home/jupyter/training-data-analyst/courses/machine_learning/cloudmle/taxi_trained/model.ckpt-1000\n",
      "INFO:tensorflow:Calling model_fn.\n",
      "INFO:tensorflow:Done calling model_fn.\n",
      "WARNING:tensorflow:From /usr/local/lib/python2.7/dist-packages/tensorflow/python/saved_model/signature_def_utils_impl.py:205: build_tensor_info (from tensorflow.python.saved_model.utils_impl) is deprecated and will be removed in a future version.\n",
      "Instructions for updating:\n",
      "This function will only be available through the v1 compatibility library as tf.compat.v1.saved_model.utils.build_tensor_info or tf.compat.v1.saved_model.build_tensor_info.\n",
      "INFO:tensorflow:Signatures INCLUDED in export for Eval: None\n",
      "INFO:tensorflow:Signatures INCLUDED in export for Classify: None\n",
      "INFO:tensorflow:Signatures INCLUDED in export for Regress: None\n",
      "INFO:tensorflow:Signatures INCLUDED in export for Predict: ['predict']\n",
      "INFO:tensorflow:Signatures INCLUDED in export for Train: None\n",
      "INFO:tensorflow:Signatures EXCLUDED from export because they cannot be be served via TensorFlow Serving APIs:\n",
      "INFO:tensorflow:'serving_default' : Regression input must be a single string Tensor; got {'passengers': <tf.Tensor 'Placeholder_4:0' shape=(?,) dtype=float32>, 'pickuplon': <tf.Tensor 'Placeholder:0' shape=(?,) dtype=float32>, 'dropofflon': <tf.Tensor 'Placeholder_3:0' shape=(?,) dtype=float32>, 'pickuplat': <tf.Tensor 'Placeholder_1:0' shape=(?,) dtype=float32>, 'dropofflat': <tf.Tensor 'Placeholder_2:0' shape=(?,) dtype=float32>}\n",
      "INFO:tensorflow:'regression' : Regression input must be a single string Tensor; got {'passengers': <tf.Tensor 'Placeholder_4:0' shape=(?,) dtype=float32>, 'pickuplon': <tf.Tensor 'Placeholder:0' shape=(?,) dtype=float32>, 'dropofflon': <tf.Tensor 'Placeholder_3:0' shape=(?,) dtype=float32>, 'pickuplat': <tf.Tensor 'Placeholder_1:0' shape=(?,) dtype=float32>, 'dropofflat': <tf.Tensor 'Placeholder_2:0' shape=(?,) dtype=float32>}\n",
      "WARNING:tensorflow:Export includes no default signature!\n",
      "INFO:tensorflow:Restoring parameters from /home/jupyter/training-data-analyst/courses/machine_learning/cloudmle/taxi_trained/model.ckpt-1000\n",
      "INFO:tensorflow:Assets added to graph.\n",
      "INFO:tensorflow:No assets to write.\n",
      "INFO:tensorflow:SavedModel written to: /home/jupyter/training-data-analyst/courses/machine_learning/cloudmle/taxi_trained/export/exporter/temp-1560368175/saved_model.pb\n",
      "INFO:tensorflow:Loss for final step: 76164.555.\n"
     ]
    }
   ],
   "source": [
    "%%bash\n",
    "rm -rf taxifare.tar.gz taxi_trained\n",
    "export PYTHONPATH=${PYTHONPATH}:${PWD}/taxifare\n",
    "python -m trainer.task \\\n",
    "   --train_data_paths=\"${PWD}/taxi-train*\" \\\n",
    "   --eval_data_paths=${PWD}/taxi-valid.csv  \\\n",
    "   --output_dir=${PWD}/taxi_trained \\\n",
    "   --train_steps=1000 --job-dir=./tmp"
   ]
  },
  {
   "cell_type": "code",
   "execution_count": null,
   "metadata": {},
   "outputs": [],
   "source": [
    "%%__bash\n",
    "ls $PWD/taxi_trained/export/exporter/"
   ]
  },
  {
   "cell_type": "code",
   "execution_count": null,
   "metadata": {},
   "outputs": [],
   "source": [
    "%%writefile ./test.json\n",
    "{\"pickuplon\": -73.885262,\"pickuplat\": 40.773008,\"dropofflon\": -73.987232,\"dropofflat\": 40.732403,\"passengers\": 2}"
   ]
  },
  {
   "cell_type": "code",
   "execution_count": null,
   "metadata": {},
   "outputs": [],
   "source": [
    "## local predict doesn't work with Python 3 yet\n",
    "#%bash\n",
    "#model_dir=$(ls ${PWD}/taxi_trained/export/exporter)\n",
    "#gcloud ml-engine local predict \\\n",
    "#    --model-dir=${PWD}/taxi_trained/export/exporter/${model_dir} \\\n",
    "#    --json-instances=./test.json"
   ]
  },
  {
   "cell_type": "markdown",
   "metadata": {},
   "source": [
    "<h2> Running locally using gcloud </h2>"
   ]
  },
  {
   "cell_type": "code",
   "execution_count": null,
   "metadata": {},
   "outputs": [],
   "source": [
    "%%bash\n",
    "rm -rf taxifare.tar.gz taxi_trained\n",
    "gcloud ml-engine local train \\\n",
    "   --module-name=trainer.task \\\n",
    "   --package-path=${PWD}/taxifare/trainer \\\n",
    "   -- \\\n",
    "   --train_data_paths=${PWD}/taxi-train.csv \\\n",
    "   --eval_data_paths=${PWD}/taxi-valid.csv  \\\n",
    "   --train_steps=1000 \\\n",
    "   --output_dir=${PWD}/taxi_trained "
   ]
  },
  {
   "cell_type": "markdown",
   "metadata": {},
   "source": [
    "When I ran it (due to random seeds, your results will be different), the ```average_loss``` (Mean Squared Error) on the evaluation dataset was 187, meaning that the RMSE was around 13."
   ]
  },
  {
   "cell_type": "code",
   "execution_count": null,
   "metadata": {},
   "outputs": [],
   "source": [
    "from google.datalab.ml import TensorBoard\n",
    "TensorBoard().start('{}/taxi_trained'.format(os.environ['PWD']))"
   ]
  },
  {
   "cell_type": "markdown",
   "metadata": {},
   "source": [
    "The Tensorboard link will not work. Instead:\n",
    "1. Select File > New Launcher from the JupyterLab menu.\n",
    "1. Click the Tensorboard launcher icon."
   ]
  },
  {
   "cell_type": "code",
   "execution_count": null,
   "metadata": {},
   "outputs": [],
   "source": [
    "for pid in TensorBoard.list()['pid']:\n",
    "  TensorBoard().stop(pid)\n",
    "  print('Stopped TensorBoard with pid {}'.format(pid))"
   ]
  },
  {
   "cell_type": "markdown",
   "metadata": {},
   "source": [
    "If the above step (to stop TensorBoard) appears stalled, just move on to the next step. You don't need to wait for it to return."
   ]
  },
  {
   "cell_type": "code",
   "execution_count": null,
   "metadata": {},
   "outputs": [],
   "source": [
    "!ls $PWD/taxi_trained"
   ]
  },
  {
   "cell_type": "markdown",
   "metadata": {},
   "source": [
    "<h2> Submit training job using gcloud </h2>\n",
    "\n",
    "First copy the training data to the cloud.  Then, launch a training job.\n",
    "\n",
    "After you submit the job, go to the cloud console (http://console.cloud.google.com) and select <b>Machine Learning | Jobs</b> to monitor progress.  \n",
    "\n",
    "<b>Note:</b> Don't be concerned if the notebook stalls (with a blue progress bar) or returns with an error about being unable to refresh auth tokens. This is a long-lived Cloud job and work is going on in the cloud.  Use the Cloud Console link (above) to monitor the job."
   ]
  },
  {
   "cell_type": "code",
   "execution_count": 17,
   "metadata": {},
   "outputs": [
    {
     "name": "stdout",
     "output_type": "stream",
     "text": [
      "drfib-ml\n"
     ]
    },
    {
     "name": "stderr",
     "output_type": "stream",
     "text": [
      "CommandException: 1 files/objects could not be removed.\n",
      "Copying file:///home/jupyter/training-data-analyst/courses/machine_learning/cloudmle/taxi-train.csv [Content-Type=text/csv]...\n",
      "Copying file:///home/jupyter/training-data-analyst/courses/machine_learning/cloudmle/taxi-valid.csv [Content-Type=text/csv]...\n",
      "/ [2/2 files][477.8 KiB/477.8 KiB] 100% Done                                    \n",
      "Operation completed over 2 objects/477.8 KiB.                                    \n"
     ]
    }
   ],
   "source": [
    "%%bash\n",
    "echo $BUCKET\n",
    "gsutil -m rm -rf gs://${BUCKET}/taxifare/smallinput/\n",
    "gsutil -m cp ${PWD}/*.csv gs://${BUCKET}/taxifare/smallinput/"
   ]
  },
  {
   "cell_type": "code",
   "execution_count": 18,
   "metadata": {},
   "outputs": [
    {
     "name": "stdout",
     "output_type": "stream",
     "text": [
      "gs://drfib-ml/taxifare/smallinput/taxi_trained us-central1 lab3a_190612_193805\n",
      "jobId: lab3a_190612_193805\n",
      "state: QUEUED\n"
     ]
    },
    {
     "name": "stderr",
     "output_type": "stream",
     "text": [
      "CommandException: 1 files/objects could not be removed.\n",
      "WARNING: The `gcloud ml-engine` commands have been renamed and will soon be removed. Please use `gcloud ai-platform` instead.\n",
      "Job [lab3a_190612_193805] submitted successfully.\n",
      "Your job is still active. You may view the status of your job with the command\n",
      "\n",
      "  $ gcloud ai-platform jobs describe lab3a_190612_193805\n",
      "\n",
      "or continue streaming the logs with the command\n",
      "\n",
      "  $ gcloud ai-platform jobs stream-logs lab3a_190612_193805\n"
     ]
    }
   ],
   "source": [
    "%%bash\n",
    "OUTDIR=gs://${BUCKET}/taxifare/smallinput/taxi_trained\n",
    "JOBNAME=lab3a_$(date -u +%y%m%d_%H%M%S)\n",
    "echo $OUTDIR $REGION $JOBNAME\n",
    "gsutil -m rm -rf $OUTDIR\n",
    "gcloud ml-engine jobs submit training $JOBNAME \\\n",
    "   --region=$REGION \\\n",
    "   --module-name=trainer.task \\\n",
    "   --package-path=${PWD}/taxifare/trainer \\\n",
    "   --job-dir=$OUTDIR \\\n",
    "   --staging-bucket=gs://$BUCKET \\\n",
    "   --scale-tier=BASIC \\\n",
    "   --runtime-version=$TFVERSION \\\n",
    "   -- \\\n",
    "   --train_data_paths=\"gs://${BUCKET}/taxifare/smallinput/taxi-train*\" \\\n",
    "   --eval_data_paths=\"gs://${BUCKET}/taxifare/smallinput/taxi-valid*\"  \\\n",
    "   --output_dir=$OUTDIR \\\n",
    "   --train_steps=10000"
   ]
  },
  {
   "cell_type": "markdown",
   "metadata": {},
   "source": [
    "Don't be concerned if the notebook appears stalled (with a blue progress bar) or returns with an error about being unable to refresh auth tokens. This is a long-lived Cloud job and work is going on in the cloud.\n",
    "\n",
    "Monitor the job in Cloud Console (AI Platform > Jobs). In addition, you can monitor the job in Tensorboard. To start Tensorboard in the Cloud Shell:\n",
    "\n",
    "1. Copy the output directory from the output of the previous code block (gs://.../taxi_trained).\n",
    "1. In the Cloud Shell, run `tensorboard --logdir=[OUTDIR] --port=8080`\n",
    "1. Once it is started, click the Web Preview icon in the Cloud Shell to view port 8080.\n",
    "\n",
    "Do NOT proceed with the notebook until the Cloud Console shows the job is finished."
   ]
  },
  {
   "cell_type": "markdown",
   "metadata": {},
   "source": [
    "<h2> Deploy model </h2>\n",
    "\n",
    "Find out the actual name of the subdirectory where the model is stored and use it to deploy the model.  Deploying model will take up to <b>5 minutes</b>."
   ]
  },
  {
   "cell_type": "code",
   "execution_count": null,
   "metadata": {},
   "outputs": [],
   "source": [
    "%%bash\n",
    "gsutil ls gs://${BUCKET}/taxifare/smallinput/taxi_trained/export/exporter"
   ]
  },
  {
   "cell_type": "code",
   "execution_count": null,
   "metadata": {},
   "outputs": [],
   "source": [
    "%%bash\n",
    "MODEL_NAME=\"taxifare\"\n",
    "MODEL_VERSION=\"v1\"\n",
    "MODEL_LOCATION=$(gsutil ls gs://${BUCKET}/taxifare/smallinput/taxi_trained/export/exporter | tail -1)\n",
    "echo \"Run these commands one-by-one (the very first time, you'll create a model and then create a version)\"\n",
    "#gcloud ml-engine versions delete ${MODEL_VERSION} --model ${MODEL_NAME}\n",
    "#gcloud ml-engine models delete ${MODEL_NAME}\n",
    "gcloud ml-engine models create ${MODEL_NAME} --regions $REGION\n",
    "gcloud ml-engine versions create ${MODEL_VERSION} --model ${MODEL_NAME} --origin ${MODEL_LOCATION} --runtime-version $TFVERSION"
   ]
  },
  {
   "cell_type": "markdown",
   "metadata": {},
   "source": [
    "<h2> Prediction </h2>"
   ]
  },
  {
   "cell_type": "code",
   "execution_count": null,
   "metadata": {},
   "outputs": [],
   "source": [
    "%%bash\n",
    "gcloud ml-engine predict --model=taxifare --version=v1 --json-instances=./test.json"
   ]
  },
  {
   "cell_type": "code",
   "execution_count": null,
   "metadata": {},
   "outputs": [],
   "source": [
    "from googleapiclient import discovery\n",
    "from oauth2client.client import GoogleCredentials\n",
    "import json\n",
    "\n",
    "credentials = GoogleCredentials.get_application_default()\n",
    "api = discovery.build('ml', 'v1', credentials=credentials,\n",
    "            discoveryServiceUrl='https://storage.googleapis.com/cloud-ml/discovery/ml_v1_discovery.json')\n",
    "\n",
    "request_data = {'instances':\n",
    "  [\n",
    "      {\n",
    "        'pickuplon': -73.885262,\n",
    "        'pickuplat': 40.773008,\n",
    "        'dropofflon': -73.987232,\n",
    "        'dropofflat': 40.732403,\n",
    "        'passengers': 2,\n",
    "      }\n",
    "  ]\n",
    "}\n",
    "\n",
    "parent = 'projects/%s/models/%s/versions/%s' % (PROJECT, 'taxifare', 'v1')\n",
    "response = api.projects().predict(body=request_data, name=parent).execute()\n",
    "print(\"response={0}\".format(response))"
   ]
  },
  {
   "cell_type": "markdown",
   "metadata": {},
   "source": [
    "<h2> Train on larger dataset </h2>\n",
    "\n",
    "I have already followed the steps below and the files are already available. <b> You don't need to do the steps in this comment. </b> In the next chapter (on feature engineering), we will avoid all this manual processing by using Cloud Dataflow.\n",
    "\n",
    "Go to http://bigquery.cloud.google.com/ and type the query:\n",
    "<pre>\n",
    "SELECT\n",
    "  (tolls_amount + fare_amount) AS fare_amount,\n",
    "  pickup_longitude AS pickuplon,\n",
    "  pickup_latitude AS pickuplat,\n",
    "  dropoff_longitude AS dropofflon,\n",
    "  dropoff_latitude AS dropofflat,\n",
    "  passenger_count*1.0 AS passengers,\n",
    "  'nokeyindata' AS key\n",
    "FROM\n",
    "  [nyc-tlc:yellow.trips]\n",
    "WHERE\n",
    "  trip_distance > 0\n",
    "  AND fare_amount >= 2.5\n",
    "  AND pickup_longitude > -78\n",
    "  AND pickup_longitude < -70\n",
    "  AND dropoff_longitude > -78\n",
    "  AND dropoff_longitude < -70\n",
    "  AND pickup_latitude > 37\n",
    "  AND pickup_latitude < 45\n",
    "  AND dropoff_latitude > 37\n",
    "  AND dropoff_latitude < 45\n",
    "  AND passenger_count > 0\n",
    "  AND ABS(HASH(pickup_datetime)) % 1000 == 1\n",
    "</pre>\n",
    "\n",
    "Note that this is now 1,000,000 rows (i.e. 100x the original dataset).  Export this to CSV using the following steps (Note that <b>I have already done this and made the resulting GCS data publicly available</b>, so you don't need to do it.):\n",
    "<ol>\n",
    "<li> Click on the \"Save As Table\" button and note down the name of the dataset and table.\n",
    "<li> On the BigQuery console, find the newly exported table in the left-hand-side menu, and click on the name.\n",
    "<li> Click on \"Export Table\"\n",
    "<li> Supply your bucket name and give it the name train.csv (for example: gs://cloud-training-demos-ml/taxifare/ch3/train.csv). Note down what this is.  Wait for the job to finish (look at the \"Job History\" on the left-hand-side menu)\n",
    "<li> In the query above, change the final \"== 1\" to \"== 2\" and export this to Cloud Storage as valid.csv (e.g.  gs://cloud-training-demos-ml/taxifare/ch3/valid.csv)\n",
    "<li> Download the two files, remove the header line and upload it back to GCS.\n",
    "</ol>\n",
    "\n",
    "<p/>\n",
    "<p/>\n",
    "\n",
    "<h2> Run Cloud training on 1-million row dataset </h2>\n",
    "\n",
    "This took 60 minutes and uses as input 1-million rows.  The model is exactly the same as above. The only changes are to the input (to use the larger dataset) and to the Cloud MLE tier (to use STANDARD_1 instead of BASIC -- STANDARD_1 is approximately 10x more powerful than BASIC).  At the end of the training the loss was 32, but the RMSE (calculated on the validation dataset) was stubbornly at 9.03. So, simply adding more data doesn't help."
   ]
  },
  {
   "cell_type": "code",
   "execution_count": null,
   "metadata": {},
   "outputs": [],
   "source": [
    "%%bash\n",
    "\n",
    "XXXXX  this takes 60 minutes. if you are sure you want to run it, then remove this line.\n",
    "\n",
    "OUTDIR=gs://${BUCKET}/taxifare/ch3/taxi_trained\n",
    "JOBNAME=lab3a_$(date -u +%y%m%d_%H%M%S)\n",
    "CRS_BUCKET=cloud-training-demos # use the already exported data\n",
    "echo $OUTDIR $REGION $JOBNAME\n",
    "gsutil -m rm -rf $OUTDIR\n",
    "gcloud ml-engine jobs submit training $JOBNAME \\\n",
    "   --region=$REGION \\\n",
    "   --module-name=trainer.task \\\n",
    "   --package-path=${PWD}/taxifare/trainer \\\n",
    "   --job-dir=$OUTDIR \\\n",
    "   --staging-bucket=gs://$BUCKET \\\n",
    "   --scale-tier=STANDARD_1 \\\n",
    "   --runtime-version=$TFVERSION \\\n",
    "   -- \\\n",
    "   --train_data_paths=\"gs://${CRS_BUCKET}/taxifare/ch3/train.csv\" \\\n",
    "   --eval_data_paths=\"gs://${CRS_BUCKET}/taxifare/ch3/valid.csv\"  \\\n",
    "   --output_dir=$OUTDIR \\\n",
    "   --train_steps=100000"
   ]
  },
  {
   "cell_type": "markdown",
   "metadata": {},
   "source": [
    "Copyright 2016 Google Inc. Licensed under the Apache License, Version 2.0 (the \"License\"); you may not use this file except in compliance with the License. You may obtain a copy of the License at http://www.apache.org/licenses/LICENSE-2.0 Unless required by applicable law or agreed to in writing, software distributed under the License is distributed on an \"AS IS\" BASIS, WITHOUT WARRANTIES OR CONDITIONS OF ANY KIND, either express or implied. See the License for the specific language governing permissions and limitations under the License"
   ]
  }
 ],
 "metadata": {
  "kernelspec": {
   "display_name": "Python 3",
   "language": "python",
   "name": "python3"
  },
  "language_info": {
   "codemirror_mode": {
    "name": "ipython",
    "version": 3
   },
   "file_extension": ".py",
   "mimetype": "text/x-python",
   "name": "python",
   "nbconvert_exporter": "python",
   "pygments_lexer": "ipython3",
   "version": "3.5.3"
  }
 },
 "nbformat": 4,
 "nbformat_minor": 2
}
