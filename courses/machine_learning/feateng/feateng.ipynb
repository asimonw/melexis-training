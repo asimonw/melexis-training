{
 "cells": [
  {
   "cell_type": "markdown",
   "metadata": {},
   "source": [
    "<h1> Feature Engineering </h1>\n",
    "\n",
    "In this notebook, you will learn how to incorporate feature engineering into your pipeline.\n",
    "<ul>\n",
    "<li> Working with feature columns </li>\n",
    "<li> Adding feature crosses in TensorFlow </li>\n",
    "<li> Reading data from BigQuery </li>\n",
    "<li> Creating datasets using Dataflow </li>\n",
    "<li> Using a wide-and-deep model </li>\n",
    "</ul>"
   ]
  },
  {
   "cell_type": "markdown",
   "metadata": {},
   "source": [
    "Apache Beam only works in Python 2 at the moment, so we're going to switch to the Python 2 kernel. In the above menu, click the dropdown arrow and select `python2`. After that, run the following to ensure we've installed Beam."
   ]
  },
  {
   "cell_type": "code",
   "execution_count": 3,
   "metadata": {},
   "outputs": [
    {
     "name": "stdout",
     "output_type": "stream",
     "text": [
      "Collecting apache-beam[gcp]==2.9.0\n",
      "  Using cached https://files.pythonhosted.org/packages/d4/3d/90aa15779e884feebae4b0c26cad6f52cd4040397a94deb58dad9c8b7300/apache_beam-2.9.0-cp27-cp27mu-manylinux1_x86_64.whl\n",
      "Collecting futures<4.0.0,>=3.1.1 (from apache-beam[gcp]==2.9.0)\n",
      "  Using cached https://files.pythonhosted.org/packages/2d/99/b2c4e9d5a30f6471e410a146232b4118e697fa3ffc06d6a65efde84debd0/futures-3.2.0-py2-none-any.whl\n",
      "Collecting mock<3.0.0,>=1.0.1 (from apache-beam[gcp]==2.9.0)\n",
      "  Using cached https://files.pythonhosted.org/packages/e6/35/f187bdf23be87092bd0f1200d43d23076cee4d0dec109f195173fd3ebc79/mock-2.0.0-py2.py3-none-any.whl\n",
      "Collecting pyyaml<4.0.0,>=3.12 (from apache-beam[gcp]==2.9.0)\n",
      "Collecting protobuf<4,>=3.5.0.post1 (from apache-beam[gcp]==2.9.0)\n",
      "  Using cached https://files.pythonhosted.org/packages/b2/a8/ad407cd2a56a052d92f602e164a9e16bede22079252af0db3838f375b6a8/protobuf-3.8.0-cp27-cp27mu-manylinux1_x86_64.whl\n",
      "Collecting pytz<=2018.4,>=2018.3 (from apache-beam[gcp]==2.9.0)\n",
      "  Using cached https://files.pythonhosted.org/packages/dc/83/15f7833b70d3e067ca91467ca245bae0f6fe56ddc7451aa0dc5606b120f2/pytz-2018.4-py2.py3-none-any.whl\n",
      "Collecting oauth2client<4,>=2.0.1 (from apache-beam[gcp]==2.9.0)\n",
      "Collecting pydot<1.3,>=1.2.0 (from apache-beam[gcp]==2.9.0)\n",
      "Collecting typing<3.7.0,>=3.6.0; python_version < \"3.5.0\" (from apache-beam[gcp]==2.9.0)\n",
      "  Using cached https://files.pythonhosted.org/packages/cc/3e/29f92b7aeda5b078c86d14f550bf85cff809042e3429ace7af6193c3bc9f/typing-3.6.6-py2-none-any.whl\n",
      "Collecting httplib2<=0.11.3,>=0.8 (from apache-beam[gcp]==2.9.0)\n",
      "Collecting grpcio<2,>=1.8 (from apache-beam[gcp]==2.9.0)\n",
      "  Using cached https://files.pythonhosted.org/packages/8e/62/448199c50e05526f7fd336d8a87bd83a0c7d92188ae51ebea23aa5f3c37e/grpcio-1.21.1-cp27-cp27mu-manylinux1_x86_64.whl\n",
      "Collecting pyvcf<0.7.0,>=0.6.8 (from apache-beam[gcp]==2.9.0)\n",
      "Collecting hdfs<3.0.0,>=2.1.0 (from apache-beam[gcp]==2.9.0)\n",
      "  Using cached https://files.pythonhosted.org/packages/6f/f1/d1b86fc910dca68e3eb21c6bf555f6f2cbbeb07c5c7ff2a22d2a6a891eae/hdfs-2.5.4-py2-none-any.whl\n",
      "Collecting future<1.0.0,>=0.16.0 (from apache-beam[gcp]==2.9.0)\n",
      "Collecting dill<=0.2.8.2,>=0.2.6 (from apache-beam[gcp]==2.9.0)\n",
      "Collecting avro<2.0.0,>=1.8.1 (from apache-beam[gcp]==2.9.0)\n",
      "Collecting fastavro<0.22,>=0.21.4 (from apache-beam[gcp]==2.9.0)\n",
      "  Using cached https://files.pythonhosted.org/packages/15/e3/5956c75f68906b119191ef30d9acff661b422cf918a29a03ee0c3ba774be/fastavro-0.21.24-cp27-cp27mu-manylinux1_x86_64.whl\n",
      "Collecting crcmod<2.0,>=1.7 (from apache-beam[gcp]==2.9.0)\n",
      "Collecting google-cloud-pubsub==0.35.4; extra == \"gcp\" (from apache-beam[gcp]==2.9.0)\n",
      "  Using cached https://files.pythonhosted.org/packages/66/f9/bfa284399fb59a8896e0c4164b46185f61f35a90a18c67b366406ad472a6/google_cloud_pubsub-0.35.4-py2.py3-none-any.whl\n",
      "Collecting proto-google-cloud-datastore-v1<=0.90.4,>=0.90.0; extra == \"gcp\" (from apache-beam[gcp]==2.9.0)\n",
      "Collecting google-apitools<=0.5.24,>=0.5.23; extra == \"gcp\" (from apache-beam[gcp]==2.9.0)\n",
      "  Using cached https://files.pythonhosted.org/packages/b2/26/abea123a1b5a2b0c1b49c0d8a2e030725f32ae0932d026f2c7a6ee32c8d3/google_apitools-0.5.24-py2-none-any.whl\n",
      "Collecting google-cloud-bigquery<1.7.0,>=1.6.0; extra == \"gcp\" (from apache-beam[gcp]==2.9.0)\n",
      "  Using cached https://files.pythonhosted.org/packages/b7/1b/2b95f2fefddbbece38110712c225bfb5649206f4056445653bd5ca4dc86d/google_cloud_bigquery-1.6.1-py2.py3-none-any.whl\n",
      "Collecting googledatastore<7.1,>=7.0.1; python_version < \"3.0\" and extra == \"gcp\" (from apache-beam[gcp]==2.9.0)\n",
      "Collecting six>=1.9 (from mock<3.0.0,>=1.0.1->apache-beam[gcp]==2.9.0)\n",
      "  Using cached https://files.pythonhosted.org/packages/73/fb/00a976f728d0d1fecfe898238ce23f502a721c0ac0ecfedb80e0d88c64e9/six-1.12.0-py2.py3-none-any.whl\n",
      "Collecting funcsigs>=1; python_version < \"3.3\" (from mock<3.0.0,>=1.0.1->apache-beam[gcp]==2.9.0)\n",
      "  Using cached https://files.pythonhosted.org/packages/69/cb/f5be453359271714c01b9bd06126eaf2e368f1fddfff30818754b5ac2328/funcsigs-1.0.2-py2.py3-none-any.whl\n",
      "Collecting pbr>=0.11 (from mock<3.0.0,>=1.0.1->apache-beam[gcp]==2.9.0)\n",
      "  Using cached https://files.pythonhosted.org/packages/49/a2/e641de6c7e559e0a03a8d3c7b42199158b17a8cf2f96e11e7f725c2e730d/pbr-5.2.1-py2.py3-none-any.whl\n",
      "Collecting setuptools (from protobuf<4,>=3.5.0.post1->apache-beam[gcp]==2.9.0)\n",
      "  Using cached https://files.pythonhosted.org/packages/ec/51/f45cea425fd5cb0b0380f5b0f048ebc1da5b417e48d304838c02d6288a1e/setuptools-41.0.1-py2.py3-none-any.whl\n",
      "Collecting rsa>=3.1.4 (from oauth2client<4,>=2.0.1->apache-beam[gcp]==2.9.0)\n",
      "  Using cached https://files.pythonhosted.org/packages/02/e5/38518af393f7c214357079ce67a317307936896e961e35450b70fad2a9cf/rsa-4.0-py2.py3-none-any.whl\n",
      "Collecting pyasn1-modules>=0.0.5 (from oauth2client<4,>=2.0.1->apache-beam[gcp]==2.9.0)\n",
      "  Using cached https://files.pythonhosted.org/packages/91/f0/b03e00ce9fddf4827c42df1c3ce10c74eadebfb706231e8d6d1c356a4062/pyasn1_modules-0.2.5-py2.py3-none-any.whl\n",
      "Collecting pyasn1>=0.1.7 (from oauth2client<4,>=2.0.1->apache-beam[gcp]==2.9.0)\n",
      "  Using cached https://files.pythonhosted.org/packages/7b/7c/c9386b82a25115cccf1903441bba3cbadcfae7b678a20167347fa8ded34c/pyasn1-0.4.5-py2.py3-none-any.whl\n",
      "Collecting pyparsing>=2.1.4 (from pydot<1.3,>=1.2.0->apache-beam[gcp]==2.9.0)\n",
      "  Using cached https://files.pythonhosted.org/packages/dd/d9/3ec19e966301a6e25769976999bd7bbe552016f0d32b577dc9d63d2e0c49/pyparsing-2.4.0-py2.py3-none-any.whl\n",
      "Collecting enum34>=1.0.4; python_version < \"3.4\" (from grpcio<2,>=1.8->apache-beam[gcp]==2.9.0)\n",
      "  Using cached https://files.pythonhosted.org/packages/c5/db/e56e6b4bbac7c4a06de1c50de6fe1ef3810018ae11732a50f15f62c7d050/enum34-1.1.6-py2-none-any.whl\n",
      "Collecting requests>=2.7.0 (from hdfs<3.0.0,>=2.1.0->apache-beam[gcp]==2.9.0)\n",
      "  Using cached https://files.pythonhosted.org/packages/51/bd/23c926cd341ea6b7dd0b2a00aba99ae0f828be89d72b2190f27c11d4b7fb/requests-2.22.0-py2.py3-none-any.whl\n",
      "Collecting docopt (from hdfs<3.0.0,>=2.1.0->apache-beam[gcp]==2.9.0)\n",
      "Collecting google-api-core[grpc]<2.0.0dev,>=0.1.3 (from google-cloud-pubsub==0.35.4; extra == \"gcp\"->apache-beam[gcp]==2.9.0)\n",
      "  Using cached https://files.pythonhosted.org/packages/10/d6/8b1e8d79a8a56649af3a094e3d90dd213278da942f36d831b57c0ca4a503/google_api_core-1.11.1-py2.py3-none-any.whl\n",
      "Collecting grpc-google-iam-v1<0.12dev,>=0.11.1 (from google-cloud-pubsub==0.35.4; extra == \"gcp\"->apache-beam[gcp]==2.9.0)\n",
      "Collecting googleapis-common-protos<2.0dev,>=1.5.2 (from proto-google-cloud-datastore-v1<=0.90.4,>=0.90.0; extra == \"gcp\"->apache-beam[gcp]==2.9.0)\n",
      "Collecting fasteners>=0.14 (from google-apitools<=0.5.24,>=0.5.23; extra == \"gcp\"->apache-beam[gcp]==2.9.0)\n",
      "  Using cached https://files.pythonhosted.org/packages/18/bd/55eb2d6397b9c0e263af9d091ebdb756b15756029b3cededf6461481bc63/fasteners-0.15-py2.py3-none-any.whl\n",
      "Collecting google-resumable-media>=0.2.1 (from google-cloud-bigquery<1.7.0,>=1.6.0; extra == \"gcp\"->apache-beam[gcp]==2.9.0)\n",
      "  Using cached https://files.pythonhosted.org/packages/e2/5d/4bc5c28c252a62efe69ed1a1561da92bd5af8eca0cdcdf8e60354fae9b29/google_resumable_media-0.3.2-py2.py3-none-any.whl\n",
      "Collecting google-cloud-core<0.30dev,>=0.28.0 (from google-cloud-bigquery<1.7.0,>=1.6.0; extra == \"gcp\"->apache-beam[gcp]==2.9.0)\n",
      "  Using cached https://files.pythonhosted.org/packages/0c/f2/3c225e7a69cb27d283b68bff867722bd066bc1858611180197f711815ea5/google_cloud_core-0.29.1-py2.py3-none-any.whl\n",
      "Collecting idna<2.9,>=2.5 (from requests>=2.7.0->hdfs<3.0.0,>=2.1.0->apache-beam[gcp]==2.9.0)\n",
      "  Using cached https://files.pythonhosted.org/packages/14/2c/cd551d81dbe15200be1cf41cd03869a46fe7226e7450af7a6545bfc474c9/idna-2.8-py2.py3-none-any.whl\n",
      "Collecting chardet<3.1.0,>=3.0.2 (from requests>=2.7.0->hdfs<3.0.0,>=2.1.0->apache-beam[gcp]==2.9.0)\n",
      "  Using cached https://files.pythonhosted.org/packages/bc/a9/01ffebfb562e4274b6487b4bb1ddec7ca55ec7510b22e4c51f14098443b8/chardet-3.0.4-py2.py3-none-any.whl\n",
      "Collecting certifi>=2017.4.17 (from requests>=2.7.0->hdfs<3.0.0,>=2.1.0->apache-beam[gcp]==2.9.0)\n",
      "  Using cached https://files.pythonhosted.org/packages/60/75/f692a584e85b7eaba0e03827b3d51f45f571c2e793dd731e598828d380aa/certifi-2019.3.9-py2.py3-none-any.whl\n",
      "Collecting urllib3!=1.25.0,!=1.25.1,<1.26,>=1.21.1 (from requests>=2.7.0->hdfs<3.0.0,>=2.1.0->apache-beam[gcp]==2.9.0)\n",
      "  Using cached https://files.pythonhosted.org/packages/e6/60/247f23a7121ae632d62811ba7f273d0e58972d75e58a94d329d51550a47d/urllib3-1.25.3-py2.py3-none-any.whl\n",
      "Collecting google-auth<2.0dev,>=0.4.0 (from google-api-core[grpc]<2.0.0dev,>=0.1.3->google-cloud-pubsub==0.35.4; extra == \"gcp\"->apache-beam[gcp]==2.9.0)\n",
      "  Using cached https://files.pythonhosted.org/packages/c5/9b/ed0516cc1f7609fb0217e3057ff4f0f9f3e3ce79a369c6af4a6c5ca25664/google_auth-1.6.3-py2.py3-none-any.whl\n",
      "Collecting monotonic>=0.1 (from fasteners>=0.14->google-apitools<=0.5.24,>=0.5.23; extra == \"gcp\"->apache-beam[gcp]==2.9.0)\n",
      "  Using cached https://files.pythonhosted.org/packages/ac/aa/063eca6a416f397bd99552c534c6d11d57f58f2e94c14780f3bbf818c4cf/monotonic-1.5-py2.py3-none-any.whl\n",
      "Collecting cachetools>=2.0.0 (from google-auth<2.0dev,>=0.4.0->google-api-core[grpc]<2.0.0dev,>=0.1.3->google-cloud-pubsub==0.35.4; extra == \"gcp\"->apache-beam[gcp]==2.9.0)\n",
      "  Using cached https://files.pythonhosted.org/packages/2f/a6/30b0a0bef12283e83e58c1d6e7b5aabc7acfc4110df81a4471655d33e704/cachetools-3.1.1-py2.py3-none-any.whl\n",
      "Installing collected packages: futures, six, funcsigs, pbr, mock, pyyaml, setuptools, protobuf, pytz, pyasn1, rsa, httplib2, pyasn1-modules, oauth2client, pyparsing, pydot, typing, enum34, grpcio, pyvcf, idna, chardet, certifi, urllib3, requests, docopt, hdfs, future, dill, avro, fastavro, crcmod, cachetools, google-auth, googleapis-common-protos, google-api-core, grpc-google-iam-v1, google-cloud-pubsub, proto-google-cloud-datastore-v1, monotonic, fasteners, google-apitools, google-resumable-media, google-cloud-core, google-cloud-bigquery, googledatastore, apache-beam\n",
      "Successfully installed apache-beam-2.9.0 avro-1.9.0 cachetools-3.1.1 certifi-2019.3.9 chardet-3.0.4 crcmod-1.7 dill-0.2.8.2 docopt-0.6.2 enum34-1.1.6 fastavro-0.21.24 fasteners-0.15 funcsigs-1.0.2 future-0.17.1 futures-3.2.0 google-api-core-1.11.1 google-apitools-0.5.24 google-auth-1.6.3 google-cloud-bigquery-1.6.1 google-cloud-core-0.29.1 google-cloud-pubsub-0.35.4 google-resumable-media-0.3.2 googleapis-common-protos-1.6.0 googledatastore-7.0.2 grpc-google-iam-v1-0.11.4 grpcio-1.21.1 hdfs-2.5.4 httplib2-0.11.3 idna-2.8 mock-2.0.0 monotonic-1.5 oauth2client-3.0.0 pbr-5.2.1 proto-google-cloud-datastore-v1-0.90.4 protobuf-3.8.0 pyasn1-0.4.5 pyasn1-modules-0.2.5 pydot-1.2.4 pyparsing-2.4.0 pytz-2018.4 pyvcf-0.6.8 pyyaml-3.13 requests-2.22.0 rsa-4.0 setuptools-41.0.1 six-1.12.0 typing-3.6.6 urllib3-1.25.3\n"
     ]
    }
   ],
   "source": [
    "%%bash\n",
    "pip install apache-beam[gcp]==2.9.0"
   ]
  },
  {
   "cell_type": "code",
   "execution_count": 2,
   "metadata": {},
   "outputs": [
    {
     "name": "stdout",
     "output_type": "stream",
     "text": [
      "1.13.1\n"
     ]
    }
   ],
   "source": [
    "import tensorflow as tf\n",
    "import apache_beam as beam\n",
    "import shutil\n",
    "print(tf.__version__)"
   ]
  },
  {
   "cell_type": "markdown",
   "metadata": {},
   "source": [
    "<h2> 1. Environment variables for project and bucket </h2>\n",
    "\n",
    "<li> Your project id is the *unique* string that identifies your project (not the project name). You can find this from the GCP Console dashboard's Home page.  My dashboard reads:  <b>Project ID:</b> cloud-training-demos </li>\n",
    "<li> Cloud training often involves saving and restoring model files. Therefore, we should <b>create a single-region bucket</b>. If you don't have a bucket already, I suggest that you create one from the GCP console (because it will dynamically check whether the bucket name you want is available) </li>\n",
    "</ol>\n",
    "<b>Change the cell below</b> to reflect your Project ID and bucket name.\n"
   ]
  },
  {
   "cell_type": "code",
   "execution_count": 25,
   "metadata": {},
   "outputs": [],
   "source": [
    "import os\n",
    "PROJECT = 'cloud-training-demos'    # CHANGE THIS\n",
    "BUCKET = 'your_regional_bucket' # REPLACE WITH YOUR BUCKET NAME. Use a regional bucket in the region you selected.\n",
    "REGION = 'us-central1' # Choose an available region for Cloud MLE from https://cloud.google.com/ml-engine/docs/regions."
   ]
  },
  {
   "cell_type": "code",
   "execution_count": 5,
   "metadata": {},
   "outputs": [],
   "source": [
    "# for bash\n",
    "os.environ['PROJECT'] = PROJECT\n",
    "os.environ['BUCKET'] = BUCKET\n",
    "os.environ['REGION'] = REGION\n",
    "os.environ['TFVERSION'] = '1.13' \n",
    "\n",
    "## ensure we're using python2 env\n",
    "os.environ['CLOUDSDK_PYTHON'] = 'python2'"
   ]
  },
  {
   "cell_type": "code",
   "execution_count": 6,
   "metadata": {},
   "outputs": [
    {
     "name": "stdout",
     "output_type": "stream",
     "text": [
      "Get:2 http://security.debian.org stretch/updates InRelease [94.3 kB]\n",
      "Get:3 http://packages.cloud.google.com/apt cloud-sdk-stretch InRelease [6,377 B]\n",
      "Ign:4 http://deb.debian.org/debian stretch InRelease\n",
      "Get:5 http://deb.debian.org/debian stretch-updates InRelease [91.0 kB]\n",
      "Hit:6 https://nvidia.github.io/libnvidia-container/debian9/amd64  InRelease\n",
      "Hit:7 https://nvidia.github.io/nvidia-container-runtime/debian9/amd64  InRelease\n",
      "Hit:8 https://nvidia.github.io/nvidia-docker/debian9/amd64  InRelease\n",
      "Hit:9 https://deb.nodesource.com/node_11.x stretch InRelease\n",
      "Get:10 http://packages.cloud.google.com/apt google-compute-engine-stretch-stable InRelease [3,843 B]\n",
      "Get:11 http://deb.debian.org/debian stretch-backports InRelease [91.8 kB]\n",
      "Get:1 https://packages.cloud.google.com/apt kubernetes-xenial InRelease [8,993 B]\n",
      "Hit:12 http://deb.debian.org/debian stretch Release\n",
      "Hit:13 http://packages.cloud.google.com/apt google-cloud-packages-archive-keyring-stretch InRelease\n",
      "Get:14 https://download.docker.com/linux/debian stretch InRelease [44.8 kB]\n",
      "Get:15 http://packages.cloud.google.com/apt cloud-sdk-stretch/main amd64 Packages [75.5 kB]\n",
      "Get:16 http://security.debian.org stretch/updates/main Sources [207 kB]\n",
      "Get:17 http://security.debian.org stretch/updates/main amd64 Packages [495 kB]\n",
      "Get:18 http://security.debian.org stretch/updates/main Translation-en [221 kB]\n",
      "Get:19 https://packages.cloud.google.com/apt kubernetes-xenial/main amd64 Packages [26.6 kB]\n",
      "Get:20 http://deb.debian.org/debian stretch-backports/main Sources.diff/Index [27.8 kB]\n",
      "Get:21 http://deb.debian.org/debian stretch-backports/main amd64 Packages.diff/Index [27.8 kB]\n",
      "Get:22 http://deb.debian.org/debian stretch-backports/main Translation-en.diff/Index [27.8 kB]\n",
      "Get:24 http://deb.debian.org/debian stretch-backports/main Sources 2019-06-03-1419.29.pdiff [5,168 B]\n",
      "Get:25 http://deb.debian.org/debian stretch-backports/main Sources 2019-06-03-2017.41.pdiff [65 B]\n",
      "Get:26 http://deb.debian.org/debian stretch-backports/main Sources 2019-06-04-0819.58.pdiff [3,250 B]\n",
      "Get:27 http://deb.debian.org/debian stretch-backports/main Sources 2019-06-09-1418.26.pdiff [3,342 B]\n",
      "Get:28 http://deb.debian.org/debian stretch-backports/main Sources 2019-06-10-2018.07.pdiff [66 B]\n",
      "Get:28 http://deb.debian.org/debian stretch-backports/main Sources 2019-06-10-2018.07.pdiff [66 B]\n",
      "Get:29 http://deb.debian.org/debian stretch-backports/main amd64 Packages 2019-06-03-1419.29.pdiff [14.6 kB]\n",
      "Get:30 http://deb.debian.org/debian stretch-backports/main amd64 Packages 2019-06-03-2017.41.pdiff [4,707 B]\n",
      "Get:31 http://deb.debian.org/debian stretch-backports/main amd64 Packages 2019-06-04-0819.58.pdiff [3,554 B]\n",
      "Get:32 http://deb.debian.org/debian stretch-backports/main amd64 Packages 2019-06-10-2018.07.pdiff [2,847 B]\n",
      "Get:32 http://deb.debian.org/debian stretch-backports/main amd64 Packages 2019-06-10-2018.07.pdiff [2,847 B]\n",
      "Get:33 http://deb.debian.org/debian stretch-backports/main Translation-en 2019-06-03-1419.29.pdiff [354 B]\n",
      "Get:34 http://deb.debian.org/debian stretch-backports/main Translation-en 2019-06-04-0819.58.pdiff [2,439 B]\n",
      "Get:34 http://deb.debian.org/debian stretch-backports/main Translation-en 2019-06-04-0819.58.pdiff [2,439 B]\n",
      "Fetched 1,490 kB in 2s (499 kB/s)\n",
      "Reading package lists...\n",
      "Reading package lists...\n",
      "Building dependency tree...\n",
      "Reading state information...\n",
      "Skipping google-cloud-sdk-app-engine-go, it is not installed and only upgrades are requested.\n",
      "Skipping google-cloud-sdk-app-engine-grpc, it is not installed and only upgrades are requested.\n",
      "Skipping google-cloud-sdk-app-engine-java, it is not installed and only upgrades are requested.\n",
      "Skipping google-cloud-sdk-app-engine-python, it is not installed and only upgrades are requested.\n",
      "Skipping google-cloud-sdk-app-engine-python-extras, it is not installed and only upgrades are requested.\n",
      "Skipping google-cloud-sdk-bigtable-emulator, it is not installed and only upgrades are requested.\n",
      "Skipping google-cloud-sdk-cbt, it is not installed and only upgrades are requested.\n",
      "Skipping google-cloud-sdk-cloud-build-local, it is not installed and only upgrades are requested.\n",
      "Skipping google-cloud-sdk-datalab, it is not installed and only upgrades are requested.\n",
      "Skipping google-cloud-sdk-datastore-emulator, it is not installed and only upgrades are requested.\n",
      "Skipping google-cloud-sdk-pubsub-emulator, it is not installed and only upgrades are requested.\n",
      "Suggested packages:\n",
      "  google-cloud-sdk-app-engine-java google-cloud-sdk-app-engine-python\n",
      "  google-cloud-sdk-pubsub-emulator google-cloud-sdk-bigtable-emulator\n",
      "  google-cloud-sdk-datastore-emulator\n",
      "The following packages will be upgraded:\n",
      "  google-cloud-sdk kubectl\n",
      "2 upgraded, 0 newly installed, 0 to remove and 0 not upgraded.\n",
      "Need to get 31.4 MB of archives.\n",
      "After this operation, 1,942 kB of additional disk space will be used.\n",
      "Do you want to continue? [Y/n] Get:1 http://packages.cloud.google.com/apt cloud-sdk-stretch/main amd64 google-cloud-sdk all 250.0.0-0 [22.6 MB]\n",
      "Get:2 http://packages.cloud.google.com/apt cloud-sdk-stretch/main amd64 kubectl amd64 1.14.3-00 [8,809 kB]\n",
      "Fetched 31.4 MB in 0s (73.1 MB/s)\n",
      "(Reading database ... 85262 files and directories currently installed.)\n",
      "Preparing to unpack .../google-cloud-sdk_250.0.0-0_all.deb ...\n",
      "Unpacking google-cloud-sdk (250.0.0-0) over (248.0.0-0) ...\n",
      "Preparing to unpack .../kubectl_1.14.3-00_amd64.deb ...\n",
      "Unpacking kubectl (1.14.3-00) over (1.14.2-00) ...\n",
      "Setting up kubectl (1.14.3-00) ...\n",
      "Processing triggers for man-db (2.7.6.1-2) ...\n",
      "Setting up google-cloud-sdk (250.0.0-0) ...\n",
      "\n",
      "\n",
      "To take a quick anonymous survey, run:\n",
      "  $ gcloud alpha survey\n",
      "\n"
     ]
    },
    {
     "name": "stderr",
     "output_type": "stream",
     "text": [
      "dpkg-preconfigure: unable to re-open stdin: No such file or directory\n"
     ]
    }
   ],
   "source": [
    "%%bash\n",
    "## ensure gcloud is up to date\n",
    "sudo apt-get update && sudo apt-get --only-upgrade install kubectl google-cloud-sdk google-cloud-sdk-app-engine-grpc google-cloud-sdk-pubsub-emulator google-cloud-sdk-app-engine-go google-cloud-sdk-cloud-build-local google-cloud-sdk-datastore-emulator google-cloud-sdk-app-engine-python google-cloud-sdk-cbt google-cloud-sdk-bigtable-emulator google-cloud-sdk-app-engine-python-extras google-cloud-sdk-datalab google-cloud-sdk-app-engine-java\n",
    "\n",
    "gcloud config set project $PROJECT\n",
    "gcloud config set compute/region $REGION\n",
    "\n",
    "## ensure we predict locally with our current Python environment\n",
    "gcloud config set ml_engine/local_python `which python`"
   ]
  },
  {
   "cell_type": "markdown",
   "metadata": {},
   "source": [
    "<h2> 2. Specifying query to pull the data </h2>\n",
    "\n",
    "Let's pull out a few extra columns from the timestamp."
   ]
  },
  {
   "cell_type": "code",
   "execution_count": 7,
   "metadata": {},
   "outputs": [
    {
     "name": "stdout",
     "output_type": "stream",
     "text": [
      "\n",
      "SELECT\n",
      "  (tolls_amount + fare_amount) AS fare_amount,\n",
      "  DAYOFWEEK(pickup_datetime) AS dayofweek,\n",
      "  HOUR(pickup_datetime) AS hourofday,\n",
      "  pickup_longitude AS pickuplon,\n",
      "  pickup_latitude AS pickuplat,\n",
      "  dropoff_longitude AS dropofflon,\n",
      "  dropoff_latitude AS dropofflat,\n",
      "  passenger_count*1.0 AS passengers,\n",
      "  CONCAT(STRING(pickup_datetime), STRING(pickup_longitude), STRING(pickup_latitude), STRING(dropoff_latitude), STRING(dropoff_longitude)) AS key\n",
      "FROM\n",
      "  [nyc-tlc:yellow.trips]\n",
      "WHERE\n",
      "  trip_distance > 0\n",
      "  AND fare_amount >= 2.5\n",
      "  AND pickup_longitude > -78\n",
      "  AND pickup_longitude < -70\n",
      "  AND dropoff_longitude > -78\n",
      "  AND dropoff_longitude < -70\n",
      "  AND pickup_latitude > 37\n",
      "  AND pickup_latitude < 45\n",
      "  AND dropoff_latitude > 37\n",
      "  AND dropoff_latitude < 45\n",
      "  AND passenger_count > 0\n",
      "   AND ABS(HASH(pickup_datetime)) % 100 == 2\n"
     ]
    }
   ],
   "source": [
    "def create_query(phase, EVERY_N):\n",
    "  if EVERY_N == None:\n",
    "    EVERY_N = 4 #use full dataset\n",
    "    \n",
    "  #select and pre-process fields\n",
    "  base_query = \"\"\"\n",
    "SELECT\n",
    "  (tolls_amount + fare_amount) AS fare_amount,\n",
    "  DAYOFWEEK(pickup_datetime) AS dayofweek,\n",
    "  HOUR(pickup_datetime) AS hourofday,\n",
    "  pickup_longitude AS pickuplon,\n",
    "  pickup_latitude AS pickuplat,\n",
    "  dropoff_longitude AS dropofflon,\n",
    "  dropoff_latitude AS dropofflat,\n",
    "  passenger_count*1.0 AS passengers,\n",
    "  CONCAT(STRING(pickup_datetime), STRING(pickup_longitude), STRING(pickup_latitude), STRING(dropoff_latitude), STRING(dropoff_longitude)) AS key\n",
    "FROM\n",
    "  [nyc-tlc:yellow.trips]\n",
    "WHERE\n",
    "  trip_distance > 0\n",
    "  AND fare_amount >= 2.5\n",
    "  AND pickup_longitude > -78\n",
    "  AND pickup_longitude < -70\n",
    "  AND dropoff_longitude > -78\n",
    "  AND dropoff_longitude < -70\n",
    "  AND pickup_latitude > 37\n",
    "  AND pickup_latitude < 45\n",
    "  AND dropoff_latitude > 37\n",
    "  AND dropoff_latitude < 45\n",
    "  AND passenger_count > 0\n",
    "  \"\"\"\n",
    "  \n",
    "  #add subsampling criteria by modding with hashkey\n",
    "  if phase == 'train': \n",
    "    query = \"{} AND ABS(HASH(pickup_datetime)) % {} < 2\".format(base_query,EVERY_N)\n",
    "  elif phase == 'valid': \n",
    "    query = \"{} AND ABS(HASH(pickup_datetime)) % {} == 2\".format(base_query,EVERY_N)\n",
    "  elif phase == 'test':\n",
    "    query = \"{} AND ABS(HASH(pickup_datetime)) % {} == 3\".format(base_query,EVERY_N)\n",
    "  return query\n",
    "    \n",
    "print(create_query('valid', 100)) #example query using 1% of data"
   ]
  },
  {
   "cell_type": "markdown",
   "metadata": {},
   "source": [
    "Try the query above in https://bigquery.cloud.google.com/table/nyc-tlc:yellow.trips if you want to see what it does (ADD LIMIT 10 to the query!)"
   ]
  },
  {
   "cell_type": "markdown",
   "metadata": {},
   "source": [
    "<h2> 3. Preprocessing Dataflow job from BigQuery </h2>\n",
    "\n",
    "This code reads from BigQuery and saves the data as-is on Google Cloud Storage.  We can do additional preprocessing and cleanup inside Dataflow, but then we'll have to remember to repeat that prepreprocessing during inference. It is better to use tf.transform which will do this book-keeping for you, or to do preprocessing within your TensorFlow model. We will look at this in future notebooks. For now, we are simply moving data from BigQuery to CSV using Dataflow.\n",
    "\n",
    "While we could read from BQ directly from TensorFlow (See: https://www.tensorflow.org/api_docs/python/tf/contrib/cloud/BigQueryReader), it is quite convenient to export to CSV and do the training off CSV.  Let's use Dataflow to do this at scale.\n",
    "\n",
    "Because we are running this on the Cloud, you should go to the GCP Console (https://console.cloud.google.com/dataflow) to look at the status of the job. It will take several minutes for the preprocessing job to launch."
   ]
  },
  {
   "cell_type": "code",
   "execution_count": 8,
   "metadata": {
    "collapsed": true
   },
   "outputs": [],
   "source": [
    "%%bash\n",
    "if gsutil ls | grep -q gs://${BUCKET}/taxifare/ch4/taxi_preproc/; then\n",
    "  gsutil -m rm -rf gs://$BUCKET/taxifare/ch4/taxi_preproc/\n",
    "fi"
   ]
  },
  {
   "cell_type": "markdown",
   "metadata": {},
   "source": [
    "First, let's define a function for preprocessing the data"
   ]
  },
  {
   "cell_type": "code",
   "execution_count": 9,
   "metadata": {
    "collapsed": true
   },
   "outputs": [],
   "source": [
    "import datetime\n",
    "\n",
    "####\n",
    "# Arguments:\n",
    "#   -rowdict: Dictionary. The beam bigquery reader returns a PCollection in\n",
    "#     which each row is represented as a python dictionary\n",
    "# Returns:\n",
    "#   -rowstring: a comma separated string representation of the record with dayofweek\n",
    "#     converted from int to string (e.g. 3 --> Tue)\n",
    "####\n",
    "def to_csv(rowdict):\n",
    "  days = ['null', 'Sun', 'Mon', 'Tue', 'Wed', 'Thu', 'Fri', 'Sat']\n",
    "  CSV_COLUMNS = 'fare_amount,dayofweek,hourofday,pickuplon,pickuplat,dropofflon,dropofflat,passengers,key'.split(',')\n",
    "  rowdict['dayofweek'] = days[rowdict['dayofweek']]\n",
    "  rowstring = ','.join([str(rowdict[k]) for k in CSV_COLUMNS])\n",
    "  return rowstring\n",
    "\n",
    "\n",
    "####\n",
    "# Arguments:\n",
    "#   -EVERY_N: Integer. Sample one out of every N rows from the full dataset.\n",
    "#     Larger values will yield smaller sample\n",
    "#   -RUNNER: 'DirectRunner' or 'DataflowRunner'. Specfy to run the pipeline\n",
    "#     locally or on Google Cloud respectively. \n",
    "# Side-effects:\n",
    "#   -Creates and executes dataflow pipeline. \n",
    "#     See https://beam.apache.org/documentation/programming-guide/#creating-a-pipeline\n",
    "####\n",
    "def preprocess(EVERY_N, RUNNER):\n",
    "  job_name = 'preprocess-taxifeatures' + '-' + datetime.datetime.now().strftime('%y%m%d-%H%M%S')\n",
    "  print('Launching Dataflow job {} ... hang on'.format(job_name))\n",
    "  OUTPUT_DIR = 'gs://{0}/taxifare/ch4/taxi_preproc/'.format(BUCKET)\n",
    "\n",
    "  #dictionary of pipeline options\n",
    "  options = {\n",
    "    'staging_location': os.path.join(OUTPUT_DIR, 'tmp', 'staging'),\n",
    "    'temp_location': os.path.join(OUTPUT_DIR, 'tmp'),\n",
    "    'job_name': 'preprocess-taxifeatures' + '-' + datetime.datetime.now().strftime('%y%m%d-%H%M%S'),\n",
    "    'project': PROJECT,\n",
    "    'runner': RUNNER\n",
    "  }\n",
    "  #instantiate PipelineOptions object using options dictionary\n",
    "  opts = beam.pipeline.PipelineOptions(flags=[], **options)\n",
    "  #instantantiate Pipeline object using PipelineOptions\n",
    "  with beam.Pipeline(options=opts) as p:\n",
    "      for phase in ['train', 'valid']:\n",
    "        query = create_query(phase, EVERY_N) \n",
    "        outfile = os.path.join(OUTPUT_DIR, '{}.csv'.format(phase))\n",
    "        (\n",
    "          p | 'read_{}'.format(phase) >> beam.io.Read(beam.io.BigQuerySource(query=query))\n",
    "            | 'tocsv_{}'.format(phase) >> beam.Map(to_csv)\n",
    "            | 'write_{}'.format(phase) >> beam.io.Write(beam.io.WriteToText(outfile))\n",
    "        )\n",
    "  print(\"Done\")"
   ]
  },
  {
   "cell_type": "markdown",
   "metadata": {},
   "source": [
    "Now, let's run pipeline locally. This takes upto <b>5 minutes</b>.  You will see a message \"Done\" when it is done."
   ]
  },
  {
   "cell_type": "code",
   "execution_count": 11,
   "metadata": {},
   "outputs": [
    {
     "name": "stdout",
     "output_type": "stream",
     "text": [
      "Launching Dataflow job preprocess-taxifeatures-190612-224426 ... hang on\n"
     ]
    },
    {
     "name": "stderr",
     "output_type": "stream",
     "text": [
      "WARNING:root:Dataset cpb100-151023:temp_dataset_5efc0772eb3941fe8568f1b84aaa449f does not exist so we will create it as temporary with location=US\n",
      "WARNING:root:Dataset cpb100-151023:temp_dataset_177b807991784108b67941340f745764 does not exist so we will create it as temporary with location=US\n",
      "WARNING:root:Deleting 22 existing files in target path matching: -*-of-%(num_shards)05d\n",
      "WARNING:root:Deleting 44 existing files in target path matching: -*-of-%(num_shards)05d\n"
     ]
    },
    {
     "name": "stdout",
     "output_type": "stream",
     "text": [
      "Done\n"
     ]
    }
   ],
   "source": [
    "# This will result in about 40k training rows\n",
    "preprocess(50000, 'DirectRunner') "
   ]
  },
  {
   "cell_type": "markdown",
   "metadata": {},
   "source": [
    "Wait for \"Done\".\n",
    "\n",
    "Let's find out how many rows of training data we now have."
   ]
  },
  {
   "cell_type": "code",
   "execution_count": 15,
   "metadata": {},
   "outputs": [
    {
     "name": "stdout",
     "output_type": "stream",
     "text": [
      "   1000 train.csv-00000-of-00044\n",
      "   1000 train.csv-00001-of-00044\n",
      "   1000 train.csv-00002-of-00044\n",
      "   1000 train.csv-00003-of-00044\n",
      "   1000 train.csv-00004-of-00044\n",
      "   1000 train.csv-00005-of-00044\n",
      "   1000 train.csv-00006-of-00044\n",
      "   1000 train.csv-00007-of-00044\n",
      "   1000 train.csv-00008-of-00044\n",
      "   1000 train.csv-00009-of-00044\n",
      "   1000 train.csv-00010-of-00044\n",
      "   1000 train.csv-00011-of-00044\n",
      "   1000 train.csv-00012-of-00044\n",
      "   1000 train.csv-00013-of-00044\n",
      "   1000 train.csv-00014-of-00044\n",
      "   1000 train.csv-00015-of-00044\n",
      "    837 train.csv-00016-of-00044\n",
      "   1000 train.csv-00017-of-00044\n",
      "   1000 train.csv-00018-of-00044\n",
      "   1000 train.csv-00019-of-00044\n",
      "   1000 train.csv-00020-of-00044\n",
      "   1000 train.csv-00021-of-00044\n",
      "   1000 train.csv-00022-of-00044\n",
      "   1000 train.csv-00023-of-00044\n",
      "   1000 train.csv-00024-of-00044\n",
      "   1000 train.csv-00025-of-00044\n",
      "   1000 train.csv-00026-of-00044\n",
      "   1000 train.csv-00027-of-00044\n",
      "   1000 train.csv-00028-of-00044\n",
      "   1000 train.csv-00029-of-00044\n",
      "   1000 train.csv-00030-of-00044\n",
      "   1000 train.csv-00031-of-00044\n",
      "   1000 train.csv-00032-of-00044\n",
      "   1000 train.csv-00033-of-00044\n",
      "   1000 train.csv-00034-of-00044\n",
      "   1000 train.csv-00035-of-00044\n",
      "   1000 train.csv-00036-of-00044\n",
      "   1000 train.csv-00037-of-00044\n",
      "   1000 train.csv-00038-of-00044\n",
      "   1000 train.csv-00039-of-00044\n",
      "   1000 train.csv-00040-of-00044\n",
      "   1000 train.csv-00041-of-00044\n",
      "   1000 train.csv-00042-of-00044\n",
      "   1000 train.csv-00043-of-00044\n",
      "  43837 total\n"
     ]
    },
    {
     "name": "stderr",
     "output_type": "stream",
     "text": [
      "Copying gs://drfib-ml/taxifare/ch4/taxi_preproc/train.csv-00000-of-00044...\n",
      "Copying gs://drfib-ml/taxifare/ch4/taxi_preproc/train.csv-00001-of-00044...\n",
      "Copying gs://drfib-ml/taxifare/ch4/taxi_preproc/train.csv-00002-of-00044...\n",
      "Copying gs://drfib-ml/taxifare/ch4/taxi_preproc/train.csv-00003-of-00044...\n",
      "Copying gs://drfib-ml/taxifare/ch4/taxi_preproc/train.csv-00004-of-00044...\n",
      "Copying gs://drfib-ml/taxifare/ch4/taxi_preproc/train.csv-00005-of-00044...\n",
      "Copying gs://drfib-ml/taxifare/ch4/taxi_preproc/train.csv-00008-of-00044...\n",
      "Copying gs://drfib-ml/taxifare/ch4/taxi_preproc/train.csv-00014-of-00044...\n",
      "Copying gs://drfib-ml/taxifare/ch4/taxi_preproc/train.csv-00006-of-00044...\n",
      "Copying gs://drfib-ml/taxifare/ch4/taxi_preproc/train.csv-00010-of-00044...\n",
      "Copying gs://drfib-ml/taxifare/ch4/taxi_preproc/train.csv-00007-of-00044...\n",
      "Copying gs://drfib-ml/taxifare/ch4/taxi_preproc/train.csv-00011-of-00044...\n",
      "Copying gs://drfib-ml/taxifare/ch4/taxi_preproc/train.csv-00009-of-00044...\n",
      "Copying gs://drfib-ml/taxifare/ch4/taxi_preproc/train.csv-00016-of-00044...\n",
      "Copying gs://drfib-ml/taxifare/ch4/taxi_preproc/train.csv-00015-of-00044...\n",
      "Copying gs://drfib-ml/taxifare/ch4/taxi_preproc/train.csv-00012-of-00044...\n",
      "Copying gs://drfib-ml/taxifare/ch4/taxi_preproc/train.csv-00013-of-00044...\n",
      "Copying gs://drfib-ml/taxifare/ch4/taxi_preproc/train.csv-00018-of-00044...\n",
      "Copying gs://drfib-ml/taxifare/ch4/taxi_preproc/train.csv-00019-of-00044...\n",
      "Copying gs://drfib-ml/taxifare/ch4/taxi_preproc/train.csv-00017-of-00044...\n",
      "Copying gs://drfib-ml/taxifare/ch4/taxi_preproc/train.csv-00020-of-00044...\n",
      "Copying gs://drfib-ml/taxifare/ch4/taxi_preproc/train.csv-00021-of-00044...\n",
      "Copying gs://drfib-ml/taxifare/ch4/taxi_preproc/train.csv-00022-of-00044...\n",
      "Copying gs://drfib-ml/taxifare/ch4/taxi_preproc/train.csv-00023-of-00044...\n",
      "Copying gs://drfib-ml/taxifare/ch4/taxi_preproc/train.csv-00024-of-00044...\n",
      "Copying gs://drfib-ml/taxifare/ch4/taxi_preproc/train.csv-00025-of-00044...\n",
      "Copying gs://drfib-ml/taxifare/ch4/taxi_preproc/train.csv-00026-of-00044...\n",
      "Copying gs://drfib-ml/taxifare/ch4/taxi_preproc/train.csv-00027-of-00044...\n",
      "Copying gs://drfib-ml/taxifare/ch4/taxi_preproc/train.csv-00028-of-00044...\n",
      "Copying gs://drfib-ml/taxifare/ch4/taxi_preproc/train.csv-00029-of-00044...\n",
      "Copying gs://drfib-ml/taxifare/ch4/taxi_preproc/train.csv-00030-of-00044...\n",
      "Copying gs://drfib-ml/taxifare/ch4/taxi_preproc/train.csv-00031-of-00044...\n",
      "Copying gs://drfib-ml/taxifare/ch4/taxi_preproc/train.csv-00032-of-00044...\n",
      "Copying gs://drfib-ml/taxifare/ch4/taxi_preproc/train.csv-00033-of-00044...\n",
      "Copying gs://drfib-ml/taxifare/ch4/taxi_preproc/train.csv-00035-of-00044...\n",
      "Copying gs://drfib-ml/taxifare/ch4/taxi_preproc/train.csv-00034-of-00044...\n",
      "Copying gs://drfib-ml/taxifare/ch4/taxi_preproc/train.csv-00036-of-00044...\n",
      "Copying gs://drfib-ml/taxifare/ch4/taxi_preproc/train.csv-00038-of-00044...\n",
      "Copying gs://drfib-ml/taxifare/ch4/taxi_preproc/train.csv-00037-of-00044...\n",
      "Copying gs://drfib-ml/taxifare/ch4/taxi_preproc/train.csv-00040-of-00044...\n",
      "Copying gs://drfib-ml/taxifare/ch4/taxi_preproc/train.csv-00039-of-00044...\n",
      "Copying gs://drfib-ml/taxifare/ch4/taxi_preproc/train.csv-00041-of-00044...\n",
      "Copying gs://drfib-ml/taxifare/ch4/taxi_preproc/train.csv-00042-of-00044...\n",
      "Copying gs://drfib-ml/taxifare/ch4/taxi_preproc/train.csv-00043-of-00044...\n",
      "- [44/44 files][  4.8 MiB/  4.8 MiB] 100% Done                                  \n",
      "Operation completed over 44 objects/4.8 MiB.                                     \n"
     ]
    }
   ],
   "source": [
    "%%bash\n",
    "mkdir preproc\n",
    "cd preproc\n",
    "gsutil -m cp gs://$BUCKET/taxifare/ch4/taxi_preproc/train.csv* .\n",
    "wc -l train*"
   ]
  },
  {
   "cell_type": "markdown",
   "metadata": {},
   "source": [
    "## 4. Run Beam pipeline on Cloud Dataflow (optional)"
   ]
  },
  {
   "cell_type": "markdown",
   "metadata": {},
   "source": [
    "If you're content to run a training job with ~40k rows of training data, skip this entire step and proceed to Train on Cloud.\n",
    "\n",
    "For better results, run the steps below to start a Dataflow job in the cloud to create about 200k rows. This will take 10-15 minutes."
   ]
  },
  {
   "cell_type": "code",
   "execution_count": 24,
   "metadata": {
    "collapsed": true
   },
   "outputs": [],
   "source": [
    "%%bash\n",
    "if gsutil ls | grep -q gs://${BUCKET}/taxifare/ch4/taxi_preproc/; then\n",
    "  gsutil -m rm -rf gs://$BUCKET/taxifare/ch4/taxi_preproc/\n",
    "fi"
   ]
  },
  {
   "cell_type": "code",
   "execution_count": 17,
   "metadata": {
    "collapsed": true
   },
   "outputs": [
    {
     "name": "stdout",
     "output_type": "stream",
     "text": [
      "Launching Dataflow job preprocess-taxifeatures-190612-225424 ... hang on\n",
      "Done\n"
     ]
    }
   ],
   "source": [
    "preprocess(100*100, 'DataflowRunner')\n",
    "# A divisor of 10,000 will result in about 200k training rows\n",
    "# Change first arg to None to preprocess full dataset"
   ]
  },
  {
   "cell_type": "markdown",
   "metadata": {},
   "source": [
    "Monitor job progress on the [Cloud Console, in the Dataflow](https://console.cloud.google.com/dataflow) section.\n",
    "\n",
    "Once the job completes, observe the files created in Google Cloud Storage."
   ]
  },
  {
   "cell_type": "code",
   "execution_count": 20,
   "metadata": {
    "collapsed": true
   },
   "outputs": [
    {
     "name": "stdout",
     "output_type": "stream",
     "text": [
      "  48668142  2019-06-12T23:04:17Z  gs://drfib-ml/taxifare/ch4/taxi_preproc/train.csv-00000-of-00001\n",
      "    121757  2019-06-12T22:47:03Z  gs://drfib-ml/taxifare/ch4/taxi_preproc/train.csv-00000-of-00044\n",
      "    113309  2019-06-12T22:47:03Z  gs://drfib-ml/taxifare/ch4/taxi_preproc/train.csv-00001-of-00044\n",
      "    112447  2019-06-12T22:47:03Z  gs://drfib-ml/taxifare/ch4/taxi_preproc/train.csv-00002-of-00044\n",
      "    113096  2019-06-12T22:47:03Z  gs://drfib-ml/taxifare/ch4/taxi_preproc/train.csv-00003-of-00044\n",
      "    115121  2019-06-12T22:47:03Z  gs://drfib-ml/taxifare/ch4/taxi_preproc/train.csv-00004-of-00044\n",
      "    113680  2019-06-12T22:47:03Z  gs://drfib-ml/taxifare/ch4/taxi_preproc/train.csv-00005-of-00044\n",
      "    113681  2019-06-12T22:47:03Z  gs://drfib-ml/taxifare/ch4/taxi_preproc/train.csv-00006-of-00044\n",
      "    113421  2019-06-12T22:47:03Z  gs://drfib-ml/taxifare/ch4/taxi_preproc/train.csv-00007-of-00044\n",
      "    113543  2019-06-12T22:47:03Z  gs://drfib-ml/taxifare/ch4/taxi_preproc/train.csv-00008-of-00044\n",
      "    115091  2019-06-12T22:47:03Z  gs://drfib-ml/taxifare/ch4/taxi_preproc/train.csv-00009-of-00044\n",
      "    112602  2019-06-12T22:47:03Z  gs://drfib-ml/taxifare/ch4/taxi_preproc/train.csv-00010-of-00044\n",
      "    115626  2019-06-12T22:47:03Z  gs://drfib-ml/taxifare/ch4/taxi_preproc/train.csv-00011-of-00044\n",
      "    113358  2019-06-12T22:47:03Z  gs://drfib-ml/taxifare/ch4/taxi_preproc/train.csv-00012-of-00044\n",
      "    114728  2019-06-12T22:47:03Z  gs://drfib-ml/taxifare/ch4/taxi_preproc/train.csv-00013-of-00044\n",
      "    112385  2019-06-12T22:47:03Z  gs://drfib-ml/taxifare/ch4/taxi_preproc/train.csv-00014-of-00044\n",
      "    114432  2019-06-12T22:47:03Z  gs://drfib-ml/taxifare/ch4/taxi_preproc/train.csv-00015-of-00044\n",
      "    108621  2019-06-12T22:47:03Z  gs://drfib-ml/taxifare/ch4/taxi_preproc/train.csv-00016-of-00044\n",
      "    119432  2019-06-12T22:47:03Z  gs://drfib-ml/taxifare/ch4/taxi_preproc/train.csv-00017-of-00044\n",
      "    111428  2019-06-12T22:47:03Z  gs://drfib-ml/taxifare/ch4/taxi_preproc/train.csv-00018-of-00044\n",
      "    113324  2019-06-12T22:47:03Z  gs://drfib-ml/taxifare/ch4/taxi_preproc/train.csv-00019-of-00044\n",
      "    113436  2019-06-12T22:47:03Z  gs://drfib-ml/taxifare/ch4/taxi_preproc/train.csv-00020-of-00044\n",
      "    113723  2019-06-12T22:47:03Z  gs://drfib-ml/taxifare/ch4/taxi_preproc/train.csv-00021-of-00044\n",
      "    112598  2019-06-12T22:47:03Z  gs://drfib-ml/taxifare/ch4/taxi_preproc/train.csv-00022-of-00044\n",
      "    113700  2019-06-12T22:47:03Z  gs://drfib-ml/taxifare/ch4/taxi_preproc/train.csv-00023-of-00044\n",
      "    112369  2019-06-12T22:47:03Z  gs://drfib-ml/taxifare/ch4/taxi_preproc/train.csv-00024-of-00044\n",
      "    113659  2019-06-12T22:47:03Z  gs://drfib-ml/taxifare/ch4/taxi_preproc/train.csv-00025-of-00044\n",
      "    113245  2019-06-12T22:47:03Z  gs://drfib-ml/taxifare/ch4/taxi_preproc/train.csv-00026-of-00044\n",
      "    112497  2019-06-12T22:47:03Z  gs://drfib-ml/taxifare/ch4/taxi_preproc/train.csv-00027-of-00044\n",
      "    113620  2019-06-12T22:47:03Z  gs://drfib-ml/taxifare/ch4/taxi_preproc/train.csv-00028-of-00044\n",
      "    112423  2019-06-12T22:47:03Z  gs://drfib-ml/taxifare/ch4/taxi_preproc/train.csv-00029-of-00044\n",
      "    113525  2019-06-12T22:47:03Z  gs://drfib-ml/taxifare/ch4/taxi_preproc/train.csv-00030-of-00044\n",
      "    113643  2019-06-12T22:47:03Z  gs://drfib-ml/taxifare/ch4/taxi_preproc/train.csv-00031-of-00044\n",
      "    111756  2019-06-12T22:47:03Z  gs://drfib-ml/taxifare/ch4/taxi_preproc/train.csv-00032-of-00044\n",
      "    112107  2019-06-12T22:47:03Z  gs://drfib-ml/taxifare/ch4/taxi_preproc/train.csv-00033-of-00044\n",
      "    113238  2019-06-12T22:47:03Z  gs://drfib-ml/taxifare/ch4/taxi_preproc/train.csv-00034-of-00044\n",
      "    113537  2019-06-12T22:47:03Z  gs://drfib-ml/taxifare/ch4/taxi_preproc/train.csv-00035-of-00044\n",
      "    113669  2019-06-12T22:47:03Z  gs://drfib-ml/taxifare/ch4/taxi_preproc/train.csv-00036-of-00044\n",
      "    113674  2019-06-12T22:47:03Z  gs://drfib-ml/taxifare/ch4/taxi_preproc/train.csv-00037-of-00044\n",
      "    113208  2019-06-12T22:47:03Z  gs://drfib-ml/taxifare/ch4/taxi_preproc/train.csv-00038-of-00044\n",
      "    113357  2019-06-12T22:47:03Z  gs://drfib-ml/taxifare/ch4/taxi_preproc/train.csv-00039-of-00044\n",
      "    113470  2019-06-12T22:47:03Z  gs://drfib-ml/taxifare/ch4/taxi_preproc/train.csv-00040-of-00044\n",
      "    113479  2019-06-12T22:47:03Z  gs://drfib-ml/taxifare/ch4/taxi_preproc/train.csv-00041-of-00044\n",
      "    117839  2019-06-12T22:47:03Z  gs://drfib-ml/taxifare/ch4/taxi_preproc/train.csv-00042-of-00044\n",
      "    113548  2019-06-12T22:47:03Z  gs://drfib-ml/taxifare/ch4/taxi_preproc/train.csv-00043-of-00044\n",
      "  24407527  2019-06-12T23:00:19Z  gs://drfib-ml/taxifare/ch4/taxi_preproc/valid.csv-00000-of-00001\n",
      "    115484  2019-06-12T22:46:47Z  gs://drfib-ml/taxifare/ch4/taxi_preproc/valid.csv-00000-of-00022\n",
      "    113942  2019-06-12T22:46:47Z  gs://drfib-ml/taxifare/ch4/taxi_preproc/valid.csv-00001-of-00022\n",
      "    112671  2019-06-12T22:46:47Z  gs://drfib-ml/taxifare/ch4/taxi_preproc/valid.csv-00002-of-00022\n",
      "    112172  2019-06-12T22:46:47Z  gs://drfib-ml/taxifare/ch4/taxi_preproc/valid.csv-00003-of-00022\n",
      "    113553  2019-06-12T22:46:47Z  gs://drfib-ml/taxifare/ch4/taxi_preproc/valid.csv-00004-of-00022\n",
      "    114324  2019-06-12T22:46:47Z  gs://drfib-ml/taxifare/ch4/taxi_preproc/valid.csv-00005-of-00022\n",
      "    113573  2019-06-12T22:46:47Z  gs://drfib-ml/taxifare/ch4/taxi_preproc/valid.csv-00006-of-00022\n",
      "    113610  2019-06-12T22:46:47Z  gs://drfib-ml/taxifare/ch4/taxi_preproc/valid.csv-00007-of-00022\n",
      "    113380  2019-06-12T22:46:47Z  gs://drfib-ml/taxifare/ch4/taxi_preproc/valid.csv-00008-of-00022\n",
      "    112392  2019-06-12T22:46:47Z  gs://drfib-ml/taxifare/ch4/taxi_preproc/valid.csv-00009-of-00022\n",
      "    117373  2019-06-12T22:46:47Z  gs://drfib-ml/taxifare/ch4/taxi_preproc/valid.csv-00010-of-00022\n",
      "    112838  2019-06-12T22:46:47Z  gs://drfib-ml/taxifare/ch4/taxi_preproc/valid.csv-00011-of-00022\n",
      "    113790  2019-06-12T22:46:47Z  gs://drfib-ml/taxifare/ch4/taxi_preproc/valid.csv-00012-of-00022\n",
      "     26492  2019-06-12T22:46:47Z  gs://drfib-ml/taxifare/ch4/taxi_preproc/valid.csv-00013-of-00022\n",
      "    112435  2019-06-12T22:46:47Z  gs://drfib-ml/taxifare/ch4/taxi_preproc/valid.csv-00014-of-00022\n",
      "    113108  2019-06-12T22:46:47Z  gs://drfib-ml/taxifare/ch4/taxi_preproc/valid.csv-00015-of-00022\n",
      "    113451  2019-06-12T22:46:47Z  gs://drfib-ml/taxifare/ch4/taxi_preproc/valid.csv-00016-of-00022\n",
      "    113645  2019-06-12T22:46:47Z  gs://drfib-ml/taxifare/ch4/taxi_preproc/valid.csv-00017-of-00022\n",
      "    113261  2019-06-12T22:46:47Z  gs://drfib-ml/taxifare/ch4/taxi_preproc/valid.csv-00018-of-00022\n",
      "    113419  2019-06-12T22:46:47Z  gs://drfib-ml/taxifare/ch4/taxi_preproc/valid.csv-00019-of-00022\n",
      "    113323  2019-06-12T22:46:47Z  gs://drfib-ml/taxifare/ch4/taxi_preproc/valid.csv-00020-of-00022\n",
      "    120933  2019-06-12T22:46:47Z  gs://drfib-ml/taxifare/ch4/taxi_preproc/valid.csv-00021-of-00022\n",
      "                                 gs://drfib-ml/taxifare/ch4/taxi_preproc/tmp/\n",
      "TOTAL: 68 objects, 80497240 bytes (76.77 MiB)\n"
     ]
    }
   ],
   "source": [
    "%%bash\n",
    "gsutil ls -l gs://$BUCKET/taxifare/ch4/taxi_preproc/"
   ]
  },
  {
   "cell_type": "code",
   "execution_count": 22,
   "metadata": {
    "collapsed": true
   },
   "outputs": [
    {
     "name": "stdout",
     "output_type": "stream",
     "text": [
      "11.3,Fri,13,-73.975687,40.76003,-73.999972,40.762227,2.0,2009-09-11 13:56:00.000000-73.975740.7640.7622-74\n",
      "6.1,Wed,12,-73.979987,40.757182,-73.999998,40.748792,2.0,2009-12-16 12:26:39.000000-73.9840.757240.7488-74\n",
      "21.3,Tue,17,-74.00001,40.72167,-73.933223,40.679975,2.0,2012-05-15 17:38:00.000000-7440.721740.68-73.9332\n",
      "6.5,Sat,15,-73.992025,40.725997,-74.000012,40.72185,2.0,2012-08-18 15:13:00.000000-73.99240.72640.7219-74\n",
      "7.0,Sun,21,-73.991645,40.74996,-74.000044,40.730599,2.0,2014-04-06 21:49:00.000000-73.991640.7540.7306-74\n",
      "14.0,Tue,22,-73.9999771118,40.7216110229,-73.9599914551,40.7626457214,2.0,2015-06-09 22:19:48.000000-7440.721640.7626-73.96\n",
      "10.9,Tue,14,-73.999958,40.730595,-73.980769,40.763996,2.0,2009-01-13 14:35:50.000000-7440.730640.764-73.9808\n",
      "10.9,Sat,18,-73.999975,40.717953,-73.99127,40.750233,2.0,2009-04-18 18:31:00.000000-7440.71840.7502-73.9913\n",
      "5.7,Thu,1,-73.99998,40.738628,-73.981518,40.741005,2.0,2009-09-10 01:02:14.000000-7440.738640.741-73.9815\n",
      "6.1,Sat,1,-73.999968,40.734777,-74.002785,40.752014,2.0,2010-02-20 01:25:52.000000-7440.734840.752-74.0028\n"
     ]
    }
   ],
   "source": [
    "%%bash\n",
    "#print first 10 lines of first shard of train.csv\n",
    "gsutil cat \"gs://$BUCKET/taxifare/ch4/taxi_preproc/train.csv-00000-of-*\" | head"
   ]
  },
  {
   "cell_type": "markdown",
   "metadata": {},
   "source": [
    "## 5. Develop model with new inputs\n",
    "\n",
    "Download the first shard of the preprocessed data to enable local development."
   ]
  },
  {
   "cell_type": "code",
   "execution_count": null,
   "metadata": {
    "collapsed": true
   },
   "outputs": [],
   "source": [
    "%%bash\n",
    "if [ -d sample ]; then\n",
    "  rm -rf sample\n",
    "fi\n",
    "mkdir sample\n",
    "gsutil cat \"gs://$BUCKET/taxifare/ch4/taxi_preproc/train.csv-00000-of-*\" > sample/train.csv\n",
    "gsutil cat \"gs://$BUCKET/taxifare/ch4/taxi_preproc/valid.csv-00000-of-*\" > sample/valid.csv"
   ]
  },
  {
   "cell_type": "markdown",
   "metadata": {},
   "source": [
    "We have two new inputs in the INPUT_COLUMNS, three engineered features, and the estimator involves bucketization and feature crosses."
   ]
  },
  {
   "cell_type": "code",
   "execution_count": null,
   "metadata": {
    "collapsed": true
   },
   "outputs": [],
   "source": [
    "%%bash\n",
    "grep -A 20 \"INPUT_COLUMNS =\" taxifare/trainer/model.py"
   ]
  },
  {
   "cell_type": "code",
   "execution_count": null,
   "metadata": {
    "collapsed": true
   },
   "outputs": [],
   "source": [
    "%%bash\n",
    "grep -A 50 \"build_estimator\" taxifare/trainer/model.py"
   ]
  },
  {
   "cell_type": "code",
   "execution_count": null,
   "metadata": {
    "collapsed": true
   },
   "outputs": [],
   "source": [
    "%%bash\n",
    "grep -A 15 \"add_engineered(\" taxifare/trainer/model.py"
   ]
  },
  {
   "cell_type": "markdown",
   "metadata": {},
   "source": [
    "Try out the new model on the local sample (this takes <b>5 minutes</b>) to make sure it works fine."
   ]
  },
  {
   "cell_type": "code",
   "execution_count": null,
   "metadata": {
    "collapsed": true
   },
   "outputs": [],
   "source": [
    "%%bash\n",
    "rm -rf taxifare.tar.gz taxi_trained\n",
    "export PYTHONPATH=${PYTHONPATH}:${PWD}/taxifare\n",
    "python -m trainer.task \\\n",
    "  --train_data_paths=${PWD}/sample/train.csv \\\n",
    "  --eval_data_paths=${PWD}/sample/valid.csv  \\\n",
    "  --output_dir=${PWD}/taxi_trained \\\n",
    "  --train_steps=10 \\\n",
    "  --job-dir=/tmp"
   ]
  },
  {
   "cell_type": "code",
   "execution_count": null,
   "metadata": {
    "collapsed": true
   },
   "outputs": [],
   "source": [
    "%%bash\n",
    "ls taxi_trained/export/exporter/"
   ]
  },
  {
   "cell_type": "markdown",
   "metadata": {},
   "source": [
    "You can use ```saved_model_cli``` to look at the exported signature. Note that the model doesn't need any of the engineered features as inputs. It will compute latdiff, londiff, euclidean from the provided inputs, thanks to the ```add_engineered``` call in the serving_input_fn."
   ]
  },
  {
   "cell_type": "code",
   "execution_count": null,
   "metadata": {
    "collapsed": true
   },
   "outputs": [],
   "source": [
    "%%bash\n",
    "model_dir=$(ls ${PWD}/taxi_trained/export/exporter | tail -1)\n",
    "saved_model_cli show --dir ${PWD}/taxi_trained/export/exporter/${model_dir} --all"
   ]
  },
  {
   "cell_type": "code",
   "execution_count": null,
   "metadata": {
    "collapsed": true
   },
   "outputs": [],
   "source": [
    "%%writefile /tmp/test.json\n",
    "{\"dayofweek\": \"Sun\", \"hourofday\": 17, \"pickuplon\": -73.885262, \"pickuplat\": 40.773008, \"dropofflon\": -73.987232, \"dropofflat\": 40.732403, \"passengers\": 2}"
   ]
  },
  {
   "cell_type": "code",
   "execution_count": null,
   "metadata": {
    "collapsed": true
   },
   "outputs": [],
   "source": [
    "%%bash\n",
    "model_dir=$(ls ${PWD}/taxi_trained/export/exporter)\n",
    "gcloud ml-engine local predict \\\n",
    "  --model-dir=${PWD}/taxi_trained/export/exporter/${model_dir} \\\n",
    "  --json-instances=/tmp/test.json"
   ]
  },
  {
   "cell_type": "markdown",
   "metadata": {},
   "source": [
    "## 6. Train on cloud\n",
    "\n",
    "This will take <b> 10-15 minutes </b> even though the prompt immediately returns after the job is submitted. If you did part 4 to generate a larger data set, multiply x5 the train_steps below. Your job will take about 30 minutes in this case. If you have enough quota, you could use the PREMIUM_1 scale tier to go about 4x faster.\n"
   ]
  },
  {
   "cell_type": "code",
   "execution_count": 23,
   "metadata": {
    "collapsed": true
   },
   "outputs": [
    {
     "name": "stdout",
     "output_type": "stream",
     "text": [
      "gs://drfib-ml/taxifare/ch4/taxi_trained us-central1 lab4a_190612_230832\n",
      "jobId: lab4a_190612_230832\n",
      "state: QUEUED\n"
     ]
    },
    {
     "name": "stderr",
     "output_type": "stream",
     "text": [
      "CommandException: 1 files/objects could not be removed.\n",
      "WARNING: The `gcloud ml-engine` commands have been renamed and will soon be removed. Please use `gcloud ai-platform` instead.\n",
      "Job [lab4a_190612_230832] submitted successfully.\n",
      "Your job is still active. You may view the status of your job with the command\n",
      "\n",
      "  $ gcloud ai-platform jobs describe lab4a_190612_230832\n",
      "\n",
      "or continue streaming the logs with the command\n",
      "\n",
      "  $ gcloud ai-platform jobs stream-logs lab4a_190612_230832\n"
     ]
    }
   ],
   "source": [
    "%%bash\n",
    "OUTDIR=gs://${BUCKET}/taxifare/ch4/taxi_trained\n",
    "JOBNAME=lab4a_$(date -u +%y%m%d_%H%M%S)\n",
    "echo $OUTDIR $REGION $JOBNAME\n",
    "gsutil -m rm -rf $OUTDIR\n",
    "gcloud ml-engine jobs submit training $JOBNAME \\\n",
    "  --region=$REGION \\\n",
    "  --module-name=trainer.task \\\n",
    "  --package-path=${PWD}/taxifare/trainer \\\n",
    "  --job-dir=$OUTDIR \\\n",
    "  --staging-bucket=gs://$BUCKET \\\n",
    "  --scale-tier=STANDARD_1 \\\n",
    "  --runtime-version=$TFVERSION \\\n",
    "  -- \\\n",
    "  --train_data_paths=\"gs://$BUCKET/taxifare/ch4/taxi_preproc/train*\" \\\n",
    "  --eval_data_paths=\"gs://${BUCKET}/taxifare/ch4/taxi_preproc/valid*\"  \\\n",
    "  --train_batch_size=128 --nbuckets=21 --hidden_units=\"144 89 55\" \\\n",
    "  --train_steps=46368 \\\n",
    "  --output_dir=$OUTDIR"
   ]
  },
  {
   "cell_type": "markdown",
   "metadata": {},
   "source": [
    "Monitor the job in the GCP Console > AI Platform > Jobs.\n",
    "\n",
    "<b>Do NOT proceed until the job is done.</b>\n",
    "\n",
    "To view progress in Tensorboard, note the OUTDIR above and run Tensorboard in Cloud Shell:\n",
    "\n",
    "> tensorboard --logdir=$OUTDIR --port=8080\n",
    "\n",
    "Connect with Web Preview as before."
   ]
  },
  {
   "cell_type": "code",
   "execution_count": null,
   "metadata": {
    "collapsed": true
   },
   "outputs": [],
   "source": [
    "%%bash\n",
    "gsutil ls gs://${BUCKET}/taxifare/ch4/taxi_trained/export/exporter | tail -1"
   ]
  },
  {
   "cell_type": "code",
   "execution_count": null,
   "metadata": {
    "collapsed": true
   },
   "outputs": [],
   "source": [
    "%%bash\n",
    "model_dir=$(gsutil ls gs://${BUCKET}/taxifare/ch4/taxi_trained/export/exporter | tail -1)\n",
    "saved_model_cli show --dir ${model_dir} --all"
   ]
  },
  {
   "cell_type": "code",
   "execution_count": null,
   "metadata": {
    "collapsed": true
   },
   "outputs": [],
   "source": [
    "%%bash\n",
    "model_dir=$(gsutil ls gs://${BUCKET}/taxifare/ch4/taxi_trained/export/exporter | tail -1)\n",
    "gcloud ml-engine local predict \\\n",
    "  --model-dir=${model_dir} \\\n",
    "  --json-instances=/tmp/test.json"
   ]
  },
  {
   "cell_type": "markdown",
   "metadata": {},
   "source": [
    "### Optional: deploy model to cloud"
   ]
  },
  {
   "cell_type": "code",
   "execution_count": null,
   "metadata": {
    "collapsed": true
   },
   "outputs": [],
   "source": [
    "%%bash\n",
    "MODEL_NAME=\"feateng\"\n",
    "MODEL_VERSION=\"v1\"\n",
    "MODEL_LOCATION=$(gsutil ls gs://${BUCKET}/taxifare/ch4/taxi_trained/export/exporter | tail -1)\n",
    "echo \"Run these commands one-by-one (the very first time, you'll create a model and then create a version)\"\n",
    "#gcloud ml-engine versions delete ${MODEL_VERSION} --model ${MODEL_NAME}\n",
    "#gcloud ml-engine models delete ${MODEL_NAME}\n",
    "gcloud ml-engine models create ${MODEL_NAME} --regions $REGION\n",
    "gcloud ml-engine versions create ${MODEL_VERSION} --model ${MODEL_NAME} --origin ${MODEL_LOCATION} --runtime-version $TFVERSION"
   ]
  },
  {
   "cell_type": "code",
   "execution_count": null,
   "metadata": {
    "collapsed": true
   },
   "outputs": [],
   "source": [
    "%%bash\n",
    "gcloud ml-engine predict --model=feateng --version=v1 --json-instances=/tmp/test.json"
   ]
  },
  {
   "cell_type": "markdown",
   "metadata": {},
   "source": [
    "<h2> 7. Hyper-parameter tune </h2>\n",
    "\n",
    "Look at <a href=\"hyperparam.ipynb\">hyper-parameter tuning notebook</a> to decide what parameters to use for model. Based on that run, I ended up choosing:\n",
    "<ol>\n",
    "<li> train_batch_size: 128 </li>\n",
    "<li> nbuckets: 21 </li>\n",
    "<li> hidden_units: \"144 89 55\" </li>   \n",
    "<li> nSteps: 317511</li>\n",
    "</ol>\n",
    "\n",
    "This gives an RMSE of 5, a considerable improvement from the 8.3 we were getting earlier ... Let's try this over a larger dataset."
   ]
  },
  {
   "cell_type": "markdown",
   "metadata": {},
   "source": [
    "# Optional: Run Cloud training on 2 million row dataset\n",
    "\n",
    "This run uses as input 2 million rows and takes ~30 minutes with 19 workers (PREMIUM_1 pricing tier). The model is exactly the same as above. The only changes are to the input (to use the larger dataset) and to the scale tier. Because the Dataflow preprocessing takes about 15 minutes, we train here using CSV files in a public bucket."
   ]
  },
  {
   "cell_type": "code",
   "execution_count": null,
   "metadata": {
    "collapsed": true
   },
   "outputs": [],
   "source": [
    "%%bash\n",
    "\n",
    "OUTDIR=gs://${BUCKET}/taxifare/feateng2m\n",
    "JOBNAME=lab4a_$(date -u +%y%m%d_%H%M%S)\n",
    "TIER=STANDARD_1 \n",
    "echo $OUTDIR $REGION $JOBNAME\n",
    "gsutil -m rm -rf $OUTDIR\n",
    "gcloud ml-engine jobs submit training $JOBNAME \\\n",
    "   --region=$REGION \\\n",
    "   --module-name=trainer.task \\\n",
    "   --package-path=${PWD}/taxifare/trainer \\\n",
    "   --job-dir=$OUTDIR \\\n",
    "   --staging-bucket=gs://$BUCKET \\\n",
    "   --scale-tier=$TIER \\\n",
    "   --runtime-version=$TFVERSION \\\n",
    "   -- \\\n",
    "   --train_data_paths=\"gs://cloud-training-demos/taxifare/ch4/taxi_preproc/train*\" \\\n",
    "   --eval_data_paths=\"gs://cloud-training-demos/taxifare/ch4/taxi_preproc/valid*\"  \\\n",
    "   --output_dir=$OUTDIR \\\n",
    "   --train_steps=2178309 \\\n",
    "   --train_batch_size=128 --nbuckets=21 --hidden_units=\"144 89 55\""
   ]
  },
  {
   "cell_type": "markdown",
   "metadata": {},
   "source": [
    "### Start Tensorboard"
   ]
  },
  {
   "cell_type": "code",
   "execution_count": null,
   "metadata": {
    "collapsed": true
   },
   "outputs": [],
   "source": [
    "from google.datalab.ml import TensorBoard\n",
    "OUTDIR='gs://{0}/taxifare/feateng2m'.format(BUCKET)\n",
    "print(OUTDIR)\n",
    "TensorBoard().start(OUTDIR)"
   ]
  },
  {
   "cell_type": "markdown",
   "metadata": {},
   "source": [
    "### Stop Tensorboard"
   ]
  },
  {
   "cell_type": "code",
   "execution_count": null,
   "metadata": {
    "collapsed": true
   },
   "outputs": [],
   "source": [
    "pids_df = TensorBoard.list()\n",
    "if not pids_df.empty:\n",
    "    for pid in pids_df['pid']:\n",
    "        TensorBoard().stop(pid)\n",
    "        print('Stopped TensorBoard with pid {}'.format(pid))"
   ]
  },
  {
   "cell_type": "markdown",
   "metadata": {},
   "source": [
    "The RMSE after training on the 2-million-row dataset is ~\\$4.  This graph shows the improvements so far ..."
   ]
  },
  {
   "cell_type": "code",
   "execution_count": null,
   "metadata": {
    "collapsed": true
   },
   "outputs": [],
   "source": [
    "import pandas as pd\n",
    "import seaborn as sns\n",
    "import numpy as np\n",
    "import matplotlib.pyplot as plt\n",
    "\n",
    "df = pd.DataFrame({'Lab' : pd.Series(['1a', '2-3', '4a', '4b', '4c']),\n",
    "              'Method' : pd.Series(['Heuristic Benchmark', 'tf.learn', '+Feature Eng.', '+ Hyperparam', '+ 2m rows']),\n",
    "              'RMSE': pd.Series([8.026, 9.4, 8.3, 5.0, 3.03]) })\n",
    "\n",
    "ax = sns.barplot(data = df, x = 'Method', y = 'RMSE')\n",
    "ax.set_ylabel('RMSE (dollars)')\n",
    "ax.set_xlabel('Labs/Methods')\n",
    "plt.plot(np.linspace(-20, 120, 1000), [5] * 1000, 'b');"
   ]
  },
  {
   "cell_type": "code",
   "execution_count": null,
   "metadata": {
    "collapsed": true
   },
   "outputs": [],
   "source": [
    "%%bash\n",
    "gsutil -m mv gs://${BUCKET}/taxifare/ch4/ gs://${BUCKET}/taxifare/ch4_1m/"
   ]
  },
  {
   "cell_type": "markdown",
   "metadata": {},
   "source": [
    "Copyright 2016 Google Inc. Licensed under the Apache License, Version 2.0 (the \"License\"); you may not use this file except in compliance with the License. You may obtain a copy of the License at http://www.apache.org/licenses/LICENSE-2.0 Unless required by applicable law or agreed to in writing, software distributed under the License is distributed on an \"AS IS\" BASIS, WITHOUT WARRANTIES OR CONDITIONS OF ANY KIND, either express or implied. See the License for the specific language governing permissions and limitations under the License"
   ]
  }
 ],
 "metadata": {
  "kernelspec": {
   "display_name": "Python 2",
   "language": "python",
   "name": "python2"
  },
  "language_info": {
   "codemirror_mode": {
    "name": "ipython",
    "version": 2
   },
   "file_extension": ".py",
   "mimetype": "text/x-python",
   "name": "python",
   "nbconvert_exporter": "python",
   "pygments_lexer": "ipython2",
   "version": "2.7.13"
  }
 },
 "nbformat": 4,
 "nbformat_minor": 2
}
